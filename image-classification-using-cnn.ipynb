{
 "cells": [
  {
   "cell_type": "markdown",
   "id": "0995a8a8",
   "metadata": {
    "id": "ed359823-abb1-425a-9530-c2f00899650b",
    "papermill": {
     "duration": 0.007679,
     "end_time": "2025-07-08T12:55:22.319684",
     "exception": false,
     "start_time": "2025-07-08T12:55:22.312005",
     "status": "completed"
    },
    "tags": []
   },
   "source": [
    "### Cat Classification Using CNN"
   ]
  },
  {
   "cell_type": "code",
   "execution_count": 1,
   "id": "52f3a9c2",
   "metadata": {
    "execution": {
     "iopub.execute_input": "2025-07-08T12:55:22.332949Z",
     "iopub.status.busy": "2025-07-08T12:55:22.332705Z",
     "iopub.status.idle": "2025-07-08T12:55:22.336372Z",
     "shell.execute_reply": "2025-07-08T12:55:22.335853Z"
    },
    "id": "0BGH9BEnbjpk",
    "papermill": {
     "duration": 0.011247,
     "end_time": "2025-07-08T12:55:22.337483",
     "exception": false,
     "start_time": "2025-07-08T12:55:22.326236",
     "status": "completed"
    },
    "tags": []
   },
   "outputs": [],
   "source": [
    "# # prompt: mount drive\n",
    "\n",
    "# from google.colab import drive\n",
    "# drive.mount('/content/drive')"
   ]
  },
  {
   "cell_type": "code",
   "execution_count": 2,
   "id": "8b2928d9",
   "metadata": {
    "execution": {
     "iopub.execute_input": "2025-07-08T12:55:22.350738Z",
     "iopub.status.busy": "2025-07-08T12:55:22.350135Z",
     "iopub.status.idle": "2025-07-08T12:55:22.353542Z",
     "shell.execute_reply": "2025-07-08T12:55:22.352787Z"
    },
    "id": "K-HUWywhqrbm",
    "papermill": {
     "duration": 0.011149,
     "end_time": "2025-07-08T12:55:22.354706",
     "exception": false,
     "start_time": "2025-07-08T12:55:22.343557",
     "status": "completed"
    },
    "tags": []
   },
   "outputs": [],
   "source": [
    "# !pip install tensorflow\n",
    "# !pip install tensorflow-gpu\n",
    "# !pip install keras"
   ]
  },
  {
   "cell_type": "code",
   "execution_count": 3,
   "id": "ef6b8bfd",
   "metadata": {
    "execution": {
     "iopub.execute_input": "2025-07-08T12:55:22.368366Z",
     "iopub.status.busy": "2025-07-08T12:55:22.368191Z",
     "iopub.status.idle": "2025-07-08T12:55:39.770997Z",
     "shell.execute_reply": "2025-07-08T12:55:39.770377Z"
    },
    "id": "b4a5a9b6-953e-4640-b4ca-c4f89fd9040d",
    "papermill": {
     "duration": 17.410939,
     "end_time": "2025-07-08T12:55:39.772406",
     "exception": false,
     "start_time": "2025-07-08T12:55:22.361467",
     "status": "completed"
    },
    "tags": []
   },
   "outputs": [
    {
     "name": "stderr",
     "output_type": "stream",
     "text": [
      "2025-07-08 12:55:24.434104: E external/local_xla/xla/stream_executor/cuda/cuda_fft.cc:477] Unable to register cuFFT factory: Attempting to register factory for plugin cuFFT when one has already been registered\n",
      "WARNING: All log messages before absl::InitializeLog() is called are written to STDERR\n",
      "E0000 00:00:1751979324.662009      19 cuda_dnn.cc:8310] Unable to register cuDNN factory: Attempting to register factory for plugin cuDNN when one has already been registered\n",
      "E0000 00:00:1751979324.730792      19 cuda_blas.cc:1418] Unable to register cuBLAS factory: Attempting to register factory for plugin cuBLAS when one has already been registered\n"
     ]
    }
   ],
   "source": [
    "# from keras.models import Sequential\n",
    "# from keras.layers import Dense, Conv2D, Flatten, MaxPooling2D, Activation\n",
    "# from keras.optimizers import Adam\n",
    "# import numpy as np\n",
    "# import pandas as pd\n",
    "# import matplotlib.pyplot as plt\n",
    "# import h5py\n",
    "\n",
    "# %matplotlib inline\n",
    "# np.random.seed(1)\n",
    "\n",
    "# Recommended: use TensorFlow's Keras API for compatibility\n",
    "from keras.models import Sequential\n",
    "from keras.layers import Dense, Conv2D, DepthwiseConv2D, Flatten, MaxPooling2D, Activation, LeakyReLU, Dropout, BatchNormalization, GlobalAveragePooling2D, Input\n",
    "from keras.optimizers import Adam\n",
    "\n",
    "from sklearn.metrics import accuracy_score, precision_score, recall_score, f1_score, confusion_matrix\n",
    "import tensorflow as tf\n",
    "import numpy as np\n",
    "import pandas as pd\n",
    "import seaborn as sn\n",
    "import matplotlib.pyplot as plt\n",
    "import h5py\n",
    "\n",
    "# For Jupyter notebooks only:\n",
    "%matplotlib inline\n",
    "\n",
    "# Set seed for reproducibility\n",
    "np.random.seed(1)\n"
   ]
  },
  {
   "cell_type": "code",
   "execution_count": 4,
   "id": "77fb39c7",
   "metadata": {
    "execution": {
     "iopub.execute_input": "2025-07-08T12:55:39.786882Z",
     "iopub.status.busy": "2025-07-08T12:55:39.785937Z",
     "iopub.status.idle": "2025-07-08T12:55:39.789346Z",
     "shell.execute_reply": "2025-07-08T12:55:39.788806Z"
    },
    "id": "f515a0c1-f62b-4516-873a-81671ece95cc",
    "papermill": {
     "duration": 0.011329,
     "end_time": "2025-07-08T12:55:39.790443",
     "exception": false,
     "start_time": "2025-07-08T12:55:39.779114",
     "status": "completed"
    },
    "tags": []
   },
   "outputs": [],
   "source": [
    "# plt.rcParams['figure.figsize'] = (8.0, 8.0) # set default size of plots\n",
    "# plt.rcParams['image.interpolation'] = 'nearest'\n",
    "# plt.rcParams['image.cmap'] = 'gray'\n",
    "\n",
    "# np.random.seed(1)"
   ]
  },
  {
   "cell_type": "markdown",
   "id": "6ed5b59d",
   "metadata": {
    "id": "a2470be1-1392-46c8-a984-fc75d6b53885",
    "papermill": {
     "duration": 0.005843,
     "end_time": "2025-07-08T12:55:39.802537",
     "exception": false,
     "start_time": "2025-07-08T12:55:39.796694",
     "status": "completed"
    },
    "tags": []
   },
   "source": [
    "## 1 - Overview of the data set\n",
    "\n",
    "First of all, we'll load the data. After loading, here's a basic overview;\n",
    "\n",
    "- a training set of m_train images labeled as cat (y=1) or non-cat (y=0)\n",
    "- a test set of m_test images labeled as cat or non-cat\n",
    "- each image is of shape (num_px, num_px, 3) where 3 is for the 3 channels (RGB). Thus, each image is square (height = num_px) and (width = num_px)."
   ]
  },
  {
   "cell_type": "code",
   "execution_count": 5,
   "id": "0a41e079",
   "metadata": {
    "execution": {
     "iopub.execute_input": "2025-07-08T12:55:39.815673Z",
     "iopub.status.busy": "2025-07-08T12:55:39.815213Z",
     "iopub.status.idle": "2025-07-08T12:55:39.818725Z",
     "shell.execute_reply": "2025-07-08T12:55:39.818060Z"
    },
    "id": "zUM95p9dheRL",
    "papermill": {
     "duration": 0.011415,
     "end_time": "2025-07-08T12:55:39.819917",
     "exception": false,
     "start_time": "2025-07-08T12:55:39.808502",
     "status": "completed"
    },
    "tags": []
   },
   "outputs": [],
   "source": [
    "path = \"/kaggle/input/image-dataset-of-cat/\""
   ]
  },
  {
   "cell_type": "code",
   "execution_count": 6,
   "id": "664d5b4e",
   "metadata": {
    "execution": {
     "iopub.execute_input": "2025-07-08T12:55:39.833045Z",
     "iopub.status.busy": "2025-07-08T12:55:39.832827Z",
     "iopub.status.idle": "2025-07-08T12:55:39.988504Z",
     "shell.execute_reply": "2025-07-08T12:55:39.987956Z"
    },
    "id": "de0c2a93-08a0-46b7-9c8c-4e5820e00a9c",
    "papermill": {
     "duration": 0.163426,
     "end_time": "2025-07-08T12:55:39.989624",
     "exception": false,
     "start_time": "2025-07-08T12:55:39.826198",
     "status": "completed"
    },
    "tags": []
   },
   "outputs": [],
   "source": [
    "train_dataset = h5py.File(path + 'train.h5', \"r\")\n",
    "train_set_x_orig = np.array(train_dataset[\"train_set_x\"][:]) # train set features\n",
    "train_set_y_orig = np.array(train_dataset[\"train_set_y\"][:]) # train set labels\n",
    "\n",
    "test_dataset = h5py.File(path +'test.h5', \"r\")\n",
    "test_set_x_orig = np.array(test_dataset[\"test_set_x\"][:]) # test set features\n",
    "test_set_y_orig = np.array(test_dataset[\"test_set_y\"][:]) # test set labels"
   ]
  },
  {
   "cell_type": "code",
   "execution_count": 7,
   "id": "d8d18d27",
   "metadata": {
    "execution": {
     "iopub.execute_input": "2025-07-08T12:55:40.002960Z",
     "iopub.status.busy": "2025-07-08T12:55:40.002765Z",
     "iopub.status.idle": "2025-07-08T12:55:40.007079Z",
     "shell.execute_reply": "2025-07-08T12:55:40.006406Z"
    },
    "id": "MhEiTraDh1Vy",
    "papermill": {
     "duration": 0.011743,
     "end_time": "2025-07-08T12:55:40.008044",
     "exception": false,
     "start_time": "2025-07-08T12:55:39.996301",
     "status": "completed"
    },
    "tags": []
   },
   "outputs": [
    {
     "name": "stdout",
     "output_type": "stream",
     "text": [
      "<KeysViewHDF5 ['list_classes', 'test_set_x', 'test_set_y']>\n",
      "<KeysViewHDF5 ['list_classes', 'train_set_x', 'train_set_y']>\n"
     ]
    }
   ],
   "source": [
    "print(test_dataset.keys())\n",
    "print(train_dataset.keys())"
   ]
  },
  {
   "cell_type": "code",
   "execution_count": 8,
   "id": "cc832055",
   "metadata": {
    "execution": {
     "iopub.execute_input": "2025-07-08T12:55:40.020984Z",
     "iopub.status.busy": "2025-07-08T12:55:40.020774Z",
     "iopub.status.idle": "2025-07-08T12:55:40.026600Z",
     "shell.execute_reply": "2025-07-08T12:55:40.026090Z"
    },
    "id": "d39495e5-4d7a-4844-bee1-f88d62e39dcf",
    "papermill": {
     "duration": 0.013486,
     "end_time": "2025-07-08T12:55:40.027632",
     "exception": false,
     "start_time": "2025-07-08T12:55:40.014146",
     "status": "completed"
    },
    "tags": []
   },
   "outputs": [
    {
     "data": {
      "text/plain": [
       "array([b'non-cat', b'cat'], dtype='|S7')"
      ]
     },
     "execution_count": 8,
     "metadata": {},
     "output_type": "execute_result"
    }
   ],
   "source": [
    "classes = np.array(test_dataset[\"list_classes\"][:]) # the list of classes\n",
    "classes"
   ]
  },
  {
   "cell_type": "code",
   "execution_count": 9,
   "id": "276a15f5",
   "metadata": {
    "execution": {
     "iopub.execute_input": "2025-07-08T12:55:40.041960Z",
     "iopub.status.busy": "2025-07-08T12:55:40.041766Z",
     "iopub.status.idle": "2025-07-08T12:55:40.045755Z",
     "shell.execute_reply": "2025-07-08T12:55:40.045069Z"
    },
    "id": "3SNa3ZZxjrxf",
    "papermill": {
     "duration": 0.012835,
     "end_time": "2025-07-08T12:55:40.046740",
     "exception": false,
     "start_time": "2025-07-08T12:55:40.033905",
     "status": "completed"
    },
    "tags": []
   },
   "outputs": [
    {
     "name": "stdout",
     "output_type": "stream",
     "text": [
      "(209, 64, 64, 3)\n",
      "(50, 64, 64, 3)\n",
      "(209,)\n",
      "(50,)\n"
     ]
    }
   ],
   "source": [
    "print(train_set_x_orig.shape)\n",
    "print(test_set_x_orig.shape)\n",
    "print(train_set_y_orig.shape)\n",
    "print(test_set_y_orig.shape)"
   ]
  },
  {
   "cell_type": "code",
   "execution_count": 10,
   "id": "30a02669",
   "metadata": {
    "execution": {
     "iopub.execute_input": "2025-07-08T12:55:40.059931Z",
     "iopub.status.busy": "2025-07-08T12:55:40.059732Z",
     "iopub.status.idle": "2025-07-08T12:55:40.063879Z",
     "shell.execute_reply": "2025-07-08T12:55:40.063214Z"
    },
    "id": "2bdbe6f9-f7d4-485b-82b6-f4e24d524c43",
    "papermill": {
     "duration": 0.0122,
     "end_time": "2025-07-08T12:55:40.065130",
     "exception": false,
     "start_time": "2025-07-08T12:55:40.052930",
     "status": "completed"
    },
    "tags": []
   },
   "outputs": [
    {
     "name": "stdout",
     "output_type": "stream",
     "text": [
      "(1, 209)\n",
      "(1, 50)\n"
     ]
    }
   ],
   "source": [
    "# train_set_y = train_set_y_orig.reshape((1, train_set_y_orig.shape[0]))\n",
    "# test_set_y = test_set_y_orig.reshape((1, test_set_y_orig.shape[0]))\n",
    "# train_set_y = train_set_y_orig.reshape(-1,1)\n",
    "# test_set_y = test_set_y_orig.reshape(-1, 1)\n",
    "train_set_y = train_set_y_orig.reshape(1, -1)\n",
    "test_set_y = test_set_y_orig.reshape(1, -1)\n",
    "print(train_set_y.shape)\n",
    "print(test_set_y.shape)"
   ]
  },
  {
   "cell_type": "markdown",
   "id": "f52f45dc",
   "metadata": {
    "id": "d7b71d47-36ce-4bbc-bfd9-384c0042255b",
    "papermill": {
     "duration": 0.006252,
     "end_time": "2025-07-08T12:55:40.077859",
     "exception": false,
     "start_time": "2025-07-08T12:55:40.071607",
     "status": "completed"
    },
    "tags": []
   },
   "source": [
    "Each line of train_set_x_orig and test_set_x_orig is an array representing an image. You can visualize an example by running the following code. Feel free also to change the index value and re-run to see other images."
   ]
  },
  {
   "cell_type": "code",
   "execution_count": 11,
   "id": "88a1f262",
   "metadata": {
    "execution": {
     "iopub.execute_input": "2025-07-08T12:55:40.091246Z",
     "iopub.status.busy": "2025-07-08T12:55:40.091050Z",
     "iopub.status.idle": "2025-07-08T12:55:40.336308Z",
     "shell.execute_reply": "2025-07-08T12:55:40.335575Z"
    },
    "id": "2QOefdRSkhpJ",
    "papermill": {
     "duration": 0.254233,
     "end_time": "2025-07-08T12:55:40.338142",
     "exception": false,
     "start_time": "2025-07-08T12:55:40.083909",
     "status": "completed"
    },
    "tags": []
   },
   "outputs": [
    {
     "data": {
      "image/png": "[encoded data removed]",
      "text/plain": [
       "<Figure size 640x480 with 1 Axes>"
      ]
     },
     "metadata": {},
     "output_type": "display_data"
    }
   ],
   "source": [
    "# plt.matshow(train_set_x_orig[0])\n",
    "# plt.title(f\"Label: {train_set_y_orig[0]}\")\n",
    "# plt.show()\n",
    "\n",
    "#plt.imshow() is the recommended method for displaying images (RGB or grayscale).\n",
    "plt.imshow(train_set_x_orig[2])\n",
    "plt.title(f\"Label: {train_set_y_orig[2]}\")\n",
    "plt.show()"
   ]
  },
  {
   "cell_type": "code",
   "execution_count": 12,
   "id": "bc7b6436",
   "metadata": {
    "execution": {
     "iopub.execute_input": "2025-07-08T12:55:40.361041Z",
     "iopub.status.busy": "2025-07-08T12:55:40.360794Z",
     "iopub.status.idle": "2025-07-08T12:55:40.779079Z",
     "shell.execute_reply": "2025-07-08T12:55:40.778359Z"
    },
    "id": "17fjVly9l_6S",
    "papermill": {
     "duration": 0.42744,
     "end_time": "2025-07-08T12:55:40.780448",
     "exception": false,
     "start_time": "2025-07-08T12:55:40.353008",
     "status": "completed"
    },
    "tags": []
   },
   "outputs": [
    {
     "data": {
      "image/png": "[encoded data removed]",
      "text/plain": [
       "<Figure size 1000x400 with 3 Axes>"
      ]
     },
     "metadata": {},
     "output_type": "display_data"
    }
   ],
   "source": [
    "plt.figure(figsize=(10, 4))  # Size of the whole figure\n",
    "\n",
    "for i, idx in enumerate(range(3)):\n",
    "    plt.subplot(1, 3, i+1)  # 1 row, 3 columns, image i+1\n",
    "    plt.imshow(train_set_x_orig[idx])\n",
    "    plt.title(f\"Pic {idx} - Label: {train_set_y_orig[idx]}\")\n",
    "    # plt.axis('off')\n",
    "\n",
    "plt.tight_layout()\n",
    "plt.show()\n"
   ]
  },
  {
   "cell_type": "code",
   "execution_count": 13,
   "id": "a65f97df",
   "metadata": {
    "execution": {
     "iopub.execute_input": "2025-07-08T12:55:40.842699Z",
     "iopub.status.busy": "2025-07-08T12:55:40.842044Z",
     "iopub.status.idle": "2025-07-08T12:55:40.845538Z",
     "shell.execute_reply": "2025-07-08T12:55:40.844791Z"
    },
    "id": "55f3cba2-e21d-4912-b84c-f14d861c5b9e",
    "papermill": {
     "duration": 0.057373,
     "end_time": "2025-07-08T12:55:40.846599",
     "exception": false,
     "start_time": "2025-07-08T12:55:40.789226",
     "status": "completed"
    },
    "tags": []
   },
   "outputs": [],
   "source": [
    "# # Example of a picture\n",
    "# index = 60\n",
    "# plt.imshow(train_set_x_orig[index])\n",
    "# print (\"y = \" + str(train_set_y[:, index]) + \", it's a '\" + classes[np.squeeze(train_set_y[:, index])].decode(\"utf-8\") +  \"' picture.\")"
   ]
  },
  {
   "cell_type": "markdown",
   "id": "cba989bb",
   "metadata": {
    "id": "46ff321f-3e90-4a75-a82b-d9d97a6d6d3d",
    "papermill": {
     "duration": 0.008141,
     "end_time": "2025-07-08T12:55:40.863126",
     "exception": false,
     "start_time": "2025-07-08T12:55:40.854985",
     "status": "completed"
    },
    "tags": []
   },
   "source": [
    "# 2 - Data preprocessing\n",
    "\n",
    "Following are the steps to preprocess data for a ConvNet.\n",
    "\n",
    "- Figure out the dimensions and shapes of the problem (m_train, m_test, num_px, ...)\n",
    "- \"Standardize\" the data\n",
    "- Data Augmentation (will discuss later in the course)\n",
    "\n",
    "Many software bugs in deep learning come from having matrix/vector dimensions that don't fit. If you can keep your matrix/vector dimensions straight you will go a long way toward eliminating many bugs."
   ]
  },
  {
   "cell_type": "markdown",
   "id": "f71c997d",
   "metadata": {
    "id": "5efd1107-cd62-4c95-8205-e8a7fe6e5e39",
    "papermill": {
     "duration": 0.008394,
     "end_time": "2025-07-08T12:55:40.879732",
     "exception": false,
     "start_time": "2025-07-08T12:55:40.871338",
     "status": "completed"
    },
    "tags": []
   },
   "source": [
    "### 2.1 Dimensions of our data"
   ]
  },
  {
   "cell_type": "code",
   "execution_count": 14,
   "id": "bbac46aa",
   "metadata": {
    "execution": {
     "iopub.execute_input": "2025-07-08T12:55:40.897076Z",
     "iopub.status.busy": "2025-07-08T12:55:40.896827Z",
     "iopub.status.idle": "2025-07-08T12:55:40.901685Z",
     "shell.execute_reply": "2025-07-08T12:55:40.900949Z"
    },
    "id": "15716c2f-90cd-4831-993e-ab5469a2ccfd",
    "papermill": {
     "duration": 0.01488,
     "end_time": "2025-07-08T12:55:40.902802",
     "exception": false,
     "start_time": "2025-07-08T12:55:40.887922",
     "status": "completed"
    },
    "tags": []
   },
   "outputs": [
    {
     "name": "stdout",
     "output_type": "stream",
     "text": [
      "Dataset dimensions:\n",
      "Number of training examples: m_train = 209\n",
      "Number of testing examples: m_test = 50\n",
      "Height/Width of each image: num_px = 64\n",
      "Each image is of size: (64, 64, 3)\n",
      "Each image is of size: (64, 64, 3)\n"
     ]
    }
   ],
   "source": [
    "m_train = train_set_x_orig.shape[0]\n",
    "m_test = test_set_x_orig.shape[0]\n",
    "num_px = train_set_x_orig.shape[1]\n",
    "\n",
    "print (\"Dataset dimensions:\")\n",
    "print (\"Number of training examples: m_train = \" + str(m_train))\n",
    "print (\"Number of testing examples: m_test = \" + str(m_test))\n",
    "print (\"Height/Width of each image: num_px = \" + str(num_px))\n",
    "print (\"Each image is of size: \" + str(train_set_x_orig[0].shape)) #same\n",
    "print (\"Each image is of size: \" + str(train_set_x_orig.shape[1:])) #same"
   ]
  },
  {
   "cell_type": "code",
   "execution_count": 15,
   "id": "97afbc4f",
   "metadata": {
    "execution": {
     "iopub.execute_input": "2025-07-08T12:55:40.920372Z",
     "iopub.status.busy": "2025-07-08T12:55:40.920178Z",
     "iopub.status.idle": "2025-07-08T12:55:40.924057Z",
     "shell.execute_reply": "2025-07-08T12:55:40.923523Z"
    },
    "id": "pCeW3D45xKam",
    "papermill": {
     "duration": 0.013904,
     "end_time": "2025-07-08T12:55:40.925137",
     "exception": false,
     "start_time": "2025-07-08T12:55:40.911233",
     "status": "completed"
    },
    "tags": []
   },
   "outputs": [
    {
     "name": "stdout",
     "output_type": "stream",
     "text": [
      "train_set_x shape: (209, 64, 64, 3)\n",
      "train_set_y shape: (1, 209)\n",
      "test_set_x shape: (50, 64, 64, 3)\n",
      "test_set_y shape: (1, 50)\n"
     ]
    }
   ],
   "source": [
    "print (\"train_set_x shape: \" + str(train_set_x_orig.shape))\n",
    "print (\"train_set_y shape: \" + str(train_set_y.shape))\n",
    "print (\"test_set_x shape: \" + str(test_set_x_orig.shape))\n",
    "print (\"test_set_y shape: \" + str(test_set_y.shape))"
   ]
  },
  {
   "cell_type": "markdown",
   "id": "2fa0ce2b",
   "metadata": {
    "id": "BUP98xKrzCSY",
    "papermill": {
     "duration": 0.008071,
     "end_time": "2025-07-08T12:55:40.941603",
     "exception": false,
     "start_time": "2025-07-08T12:55:40.933532",
     "status": "completed"
    },
    "tags": []
   },
   "source": [
    "| Operation         | Input Shape        | Output Shape | When to Use                              |\n",
    "| ----------------- | ------------------ | ------------ | ---------------------------------------- |\n",
    "| `.T`              | `(1, m)`           | `(m, 1)`     | When the data is already 2D              |\n",
    "| `.reshape(-1, 1)` | `(m,)` or `(1, m)` | `(m, 1)`     | Safer and works for both 1D or 2D inputs |\n"
   ]
  },
  {
   "cell_type": "code",
   "execution_count": 16,
   "id": "e74dddb1",
   "metadata": {
    "execution": {
     "iopub.execute_input": "2025-07-08T12:55:40.959234Z",
     "iopub.status.busy": "2025-07-08T12:55:40.958985Z",
     "iopub.status.idle": "2025-07-08T12:55:40.962408Z",
     "shell.execute_reply": "2025-07-08T12:55:40.961736Z"
    },
    "id": "f58248c8-aac9-40c3-82b1-f9971bd6a2bf",
    "papermill": {
     "duration": 0.013342,
     "end_time": "2025-07-08T12:55:40.963528",
     "exception": false,
     "start_time": "2025-07-08T12:55:40.950186",
     "status": "completed"
    },
    "tags": []
   },
   "outputs": [],
   "source": [
    "# train_set_y = train_set_y.T\n",
    "# test_set_y = test_set_y.T\n",
    "train_set_y = train_set_y.reshape(-1, 1)\n",
    "test_set_y = test_set_y.reshape(-1, 1)"
   ]
  },
  {
   "cell_type": "code",
   "execution_count": 17,
   "id": "d9c40783",
   "metadata": {
    "execution": {
     "iopub.execute_input": "2025-07-08T12:55:40.981281Z",
     "iopub.status.busy": "2025-07-08T12:55:40.981078Z",
     "iopub.status.idle": "2025-07-08T12:55:40.985299Z",
     "shell.execute_reply": "2025-07-08T12:55:40.984489Z"
    },
    "id": "d73c6497-9820-4f50-a999-87c40f469e82",
    "papermill": {
     "duration": 0.014291,
     "end_time": "2025-07-08T12:55:40.986460",
     "exception": false,
     "start_time": "2025-07-08T12:55:40.972169",
     "status": "completed"
    },
    "tags": []
   },
   "outputs": [
    {
     "name": "stdout",
     "output_type": "stream",
     "text": [
      "train_set_x shape: (209, 64, 64, 3)\n",
      "train_set_y shape: (209, 1)\n",
      "test_set_x shape: (50, 64, 64, 3)\n",
      "test_set_y shape: (50, 1)\n"
     ]
    }
   ],
   "source": [
    "print (\"train_set_x shape: \" + str(train_set_x_orig.shape))\n",
    "print (\"train_set_y shape: \" + str(train_set_y.shape))\n",
    "print (\"test_set_x shape: \" + str(test_set_x_orig.shape))\n",
    "print (\"test_set_y shape: \" + str(test_set_y.shape))"
   ]
  },
  {
   "cell_type": "markdown",
   "id": "146134ff",
   "metadata": {
    "id": "nJRJ9d2jz2k2",
    "papermill": {
     "duration": 0.008229,
     "end_time": "2025-07-08T12:55:41.003468",
     "exception": false,
     "start_time": "2025-07-08T12:55:40.995239",
     "status": "completed"
    },
    "tags": []
   },
   "source": [
    "| Input Shape        | Operation                                | Output Shape   |\n",
    "| ------------------ | ---------------------------------------- | -------------- |\n",
    " | `train_set_x_orig.reshape(train_set_x_orig.shape[0], -1).shape` | Flatten each image to 1D vector          | `(209, 12288)` |\n",
    "| `-1`               | Let NumPy automatically compute the size |    `(64 * 64 * 3) = 12288`            |\n"
   ]
  },
  {
   "cell_type": "code",
   "execution_count": 18,
   "id": "cdafc9bc",
   "metadata": {
    "execution": {
     "iopub.execute_input": "2025-07-08T12:55:41.021129Z",
     "iopub.status.busy": "2025-07-08T12:55:41.020869Z",
     "iopub.status.idle": "2025-07-08T12:55:41.026121Z",
     "shell.execute_reply": "2025-07-08T12:55:41.025372Z"
    },
    "id": "rsX1LnDUpOJp",
    "papermill": {
     "duration": 0.015397,
     "end_time": "2025-07-08T12:55:41.027267",
     "exception": false,
     "start_time": "2025-07-08T12:55:41.011870",
     "status": "completed"
    },
    "tags": []
   },
   "outputs": [
    {
     "name": "stdout",
     "output_type": "stream",
     "text": [
      "train_set_x_flatten shape: (209, 12288)\n",
      "train_set_y shape: (209, 1)\n",
      "test_set_x_flatten shape: (50, 12288)\n",
      "test_set_y shape: (50, 1)\n",
      "train_set_x_flatten shape: (209, 12288)\n",
      "train_set_y shape: (209, 1)\n",
      "test_set_x_flatten shape: (50, 12288)\n",
      "test_set_y shape: (50, 1)\n"
     ]
    }
   ],
   "source": [
    " # Reshape the training and test examples\n",
    "\n",
    "train_set_x_flatten = train_set_x_orig.reshape(train_set_x_orig.shape[0], -1)\n",
    "test_set_x_flatten = test_set_x_orig.reshape(test_set_x_orig.shape[0], -1)\n",
    "\n",
    "\n",
    "#Do it above\n",
    "# # Transpose the train_set_y and test_set_y to have the number of samples as the first dimension\n",
    "# train_set_y = train_set_y.T\n",
    "# test_set_y = test_set_y.T\n",
    "\n",
    "print (\"train_set_x_flatten shape: \" + str(train_set_x_flatten.shape))\n",
    "print (\"train_set_y shape: \" + str(train_set_y.shape))\n",
    "print (\"test_set_x_flatten shape: \" + str(test_set_x_flatten.shape))\n",
    "print (\"test_set_y shape: \" + str(test_set_y.shape))\n",
    "print (\"train_set_x_flatten shape: \" + str(train_set_x_flatten.shape))\n",
    "print (\"train_set_y shape: \" + str(train_set_y.shape))\n",
    "print (\"test_set_x_flatten shape: \" + str(test_set_x_flatten.shape))\n",
    "print (\"test_set_y shape: \" + str(test_set_y.shape))"
   ]
  },
  {
   "cell_type": "markdown",
   "id": "73ccfe8b",
   "metadata": {
    "id": "a1a93dff-0d65-4ffa-a4cd-b4eb00a25a78",
    "papermill": {
     "duration": 0.009486,
     "end_time": "2025-07-08T12:55:41.045357",
     "exception": false,
     "start_time": "2025-07-08T12:55:41.035871",
     "status": "completed"
    },
    "tags": []
   },
   "source": [
    "### 2.3 Standardizing data\n",
    "\n",
    "One common preprocessing step in machine learning is to center and standardize your dataset, meaning that you substract the mean of the whole numpy array from each example, and then divide each example by the standard deviation of the whole numpy array. But for picture datasets, it is simpler and more convenient and works almost as well to just divide every row of the dataset by 255 (the maximum value of a pixel channel).\n",
    "\n",
    "Let's standardize our dataset."
   ]
  },
  {
   "cell_type": "code",
   "execution_count": 19,
   "id": "22048b04",
   "metadata": {
    "execution": {
     "iopub.execute_input": "2025-07-08T12:55:41.063224Z",
     "iopub.status.busy": "2025-07-08T12:55:41.062856Z",
     "iopub.status.idle": "2025-07-08T12:55:41.086186Z",
     "shell.execute_reply": "2025-07-08T12:55:41.085628Z"
    },
    "id": "5fd30a60-b557-43b9-8b15-94d7abf490e5",
    "papermill": {
     "duration": 0.033667,
     "end_time": "2025-07-08T12:55:41.087433",
     "exception": false,
     "start_time": "2025-07-08T12:55:41.053766",
     "status": "completed"
    },
    "tags": []
   },
   "outputs": [],
   "source": [
    "train_set_x = train_set_x_flatten/255.\n",
    "test_set_x = test_set_x_flatten/255."
   ]
  },
  {
   "cell_type": "code",
   "execution_count": 20,
   "id": "4c3b9562",
   "metadata": {
    "execution": {
     "iopub.execute_input": "2025-07-08T12:55:41.105663Z",
     "iopub.status.busy": "2025-07-08T12:55:41.105415Z",
     "iopub.status.idle": "2025-07-08T12:55:41.109602Z",
     "shell.execute_reply": "2025-07-08T12:55:41.108945Z"
    },
    "id": "171c853b-bb92-42ff-aba4-58ef1d7b890e",
    "papermill": {
     "duration": 0.014358,
     "end_time": "2025-07-08T12:55:41.110667",
     "exception": false,
     "start_time": "2025-07-08T12:55:41.096309",
     "status": "completed"
    },
    "tags": []
   },
   "outputs": [
    {
     "name": "stdout",
     "output_type": "stream",
     "text": [
      "train_set_x_flatten_Normalizes  shape: (209, 12288)\n",
      "train_set_y shape: (209, 1)\n",
      "test_set_x_flatten_Normalizes  shape: (50, 12288)\n",
      "test_set_y shape: (50, 1)\n"
     ]
    }
   ],
   "source": [
    "print (\"train_set_x_flatten_Normalizes  shape: \" + str(train_set_x.shape))\n",
    "print (\"train_set_y shape: \" + str(train_set_y.shape))\n",
    "print (\"test_set_x_flatten_Normalizes  shape: \" + str(test_set_x.shape))\n",
    "print (\"test_set_y shape: \" + str(test_set_y.shape))"
   ]
  },
  {
   "cell_type": "markdown",
   "id": "09def28e",
   "metadata": {
    "id": "563440dd-27f5-493a-a089-dbb26caf6a71",
    "papermill": {
     "duration": 0.008325,
     "end_time": "2025-07-08T12:55:41.127787",
     "exception": false,
     "start_time": "2025-07-08T12:55:41.119462",
     "status": "completed"
    },
    "tags": []
   },
   "source": [
    "## 3 - Modeling"
   ]
  },
  {
   "cell_type": "code",
   "execution_count": 21,
   "id": "2d83d2a7",
   "metadata": {
    "execution": {
     "iopub.execute_input": "2025-07-08T12:55:41.145265Z",
     "iopub.status.busy": "2025-07-08T12:55:41.145036Z",
     "iopub.status.idle": "2025-07-08T12:55:41.148772Z",
     "shell.execute_reply": "2025-07-08T12:55:41.148056Z"
    },
    "id": "4uxtqHoM64mf",
    "papermill": {
     "duration": 0.013662,
     "end_time": "2025-07-08T12:55:41.149837",
     "exception": false,
     "start_time": "2025-07-08T12:55:41.136175",
     "status": "completed"
    },
    "tags": []
   },
   "outputs": [],
   "source": [
    "from numpy.random import seed\n",
    "seed(1)\n",
    "# from tensorflow.random import set_seed\n",
    "# set_seed(2)\n",
    "import tensorflow as tf\n",
    "tf.random.set_seed(2)"
   ]
  },
  {
   "cell_type": "markdown",
   "id": "a394e7e3",
   "metadata": {
    "id": "BThKFefD8K75",
    "papermill": {
     "duration": 0.008273,
     "end_time": "2025-07-08T12:55:41.166963",
     "exception": false,
     "start_time": "2025-07-08T12:55:41.158690",
     "status": "completed"
    },
    "tags": []
   },
   "source": [
    "🔐 Optional for full reproducibility (even better):\n",
    "If you're doing critical experiments and want exact results across machines:"
   ]
  },
  {
   "cell_type": "code",
   "execution_count": 22,
   "id": "a29c09b0",
   "metadata": {
    "execution": {
     "iopub.execute_input": "2025-07-08T12:55:41.184472Z",
     "iopub.status.busy": "2025-07-08T12:55:41.184267Z",
     "iopub.status.idle": "2025-07-08T12:55:41.187542Z",
     "shell.execute_reply": "2025-07-08T12:55:41.187049Z"
    },
    "id": "JQdqtrKT8JuR",
    "papermill": {
     "duration": 0.013116,
     "end_time": "2025-07-08T12:55:41.188528",
     "exception": false,
     "start_time": "2025-07-08T12:55:41.175412",
     "status": "completed"
    },
    "tags": []
   },
   "outputs": [],
   "source": [
    "import os\n",
    "os.environ['PYTHONHASHSEED'] = '0'\n",
    "\n",
    "# Optional but useful (if your TensorFlow version supports it)\n",
    "tf.config.experimental.enable_op_determinism()\n"
   ]
  },
  {
   "cell_type": "markdown",
   "id": "676e0a0a",
   "metadata": {
    "id": "91111320-abdf-401d-9913-639dab4f35ec",
    "papermill": {
     "duration": 0.008287,
     "end_time": "2025-07-08T12:55:41.205220",
     "exception": false,
     "start_time": "2025-07-08T12:55:41.196933",
     "status": "completed"
    },
    "tags": []
   },
   "source": [
    "### 3.1 Utility function to train & evaluate our models."
   ]
  },
  {
   "cell_type": "code",
   "execution_count": 23,
   "id": "2d465eb5",
   "metadata": {
    "execution": {
     "iopub.execute_input": "2025-07-08T12:55:41.222764Z",
     "iopub.status.busy": "2025-07-08T12:55:41.222563Z",
     "iopub.status.idle": "2025-07-08T12:55:41.227277Z",
     "shell.execute_reply": "2025-07-08T12:55:41.226770Z"
    },
    "id": "5x_sIB6zEpYm",
    "papermill": {
     "duration": 0.014737,
     "end_time": "2025-07-08T12:55:41.228298",
     "exception": false,
     "start_time": "2025-07-08T12:55:41.213561",
     "status": "completed"
    },
    "tags": []
   },
   "outputs": [],
   "source": [
    "# Utility function\n",
    "def evaluate_this_model(model, epochs, train_set_x_unflattened, train_set_y, batch_size, learning_rate):\n",
    "    # Use the unflattened training data for the ConvNet model\n",
    "    np.random.seed(1)\n",
    "\n",
    "    # Pass train_set_x_unflattened instead of train_set_x\n",
    "    history = model.fit(train_set_x_unflattened, train_set_y, epochs=epochs, verbose=True, batch_size=batch_size)\n",
    "\n",
    "    # Similarly, use the unflattened test data for evaluation\n",
    "    results = model.evaluate(test_set_x_orig, test_set_y) # Assuming test_set_x_orig is available in scope or passed\n",
    "\n",
    "    plt.plot(np.squeeze(history.history[\"loss\"]))\n",
    "    plt.ylabel('cost')\n",
    "    plt.xlabel('iterations (per tens)')\n",
    "    plt.title(\"Learning rate =\" + str(learning_rate))\n",
    "    plt.title(\"Model Loss\")\n",
    "    plt.show()\n",
    "\n",
    "    print(\"\\n\\nAccuracy on training set is {}\".format(history.history[\"accuracy\"][-1])) # Use 'accuracy' for Keras metrics\n",
    "    print(\"\\nAccuracy on test set is {}\".format(results[1]))"
   ]
  },
  {
   "cell_type": "markdown",
   "id": "2beda62a",
   "metadata": {
    "id": "e9786fba-8843-4c5b-afb6-57ce10a9e255",
    "papermill": {
     "duration": 0.008396,
     "end_time": "2025-07-08T12:55:41.245493",
     "exception": false,
     "start_time": "2025-07-08T12:55:41.237097",
     "status": "completed"
    },
    "tags": []
   },
   "source": [
    "### 3.2 Model Architecture"
   ]
  },
  {
   "cell_type": "code",
   "execution_count": 24,
   "id": "c72ff384",
   "metadata": {
    "execution": {
     "iopub.execute_input": "2025-07-08T12:55:41.263764Z",
     "iopub.status.busy": "2025-07-08T12:55:41.263143Z",
     "iopub.status.idle": "2025-07-08T12:55:41.267694Z",
     "shell.execute_reply": "2025-07-08T12:55:41.267173Z"
    },
    "id": "gmzJcHED-as-",
    "papermill": {
     "duration": 0.0145,
     "end_time": "2025-07-08T12:55:41.268630",
     "exception": false,
     "start_time": "2025-07-08T12:55:41.254130",
     "status": "completed"
    },
    "tags": []
   },
   "outputs": [
    {
     "data": {
      "text/plain": [
       "(64, 64, 3)"
      ]
     },
     "execution_count": 24,
     "metadata": {},
     "output_type": "execute_result"
    }
   ],
   "source": [
    "train_set_x_orig.shape[1:]"
   ]
  },
  {
   "cell_type": "code",
   "execution_count": 25,
   "id": "02f24691",
   "metadata": {
    "execution": {
     "iopub.execute_input": "2025-07-08T12:55:41.286894Z",
     "iopub.status.busy": "2025-07-08T12:55:41.286603Z",
     "iopub.status.idle": "2025-07-08T12:55:43.815652Z",
     "shell.execute_reply": "2025-07-08T12:55:43.814765Z"
    },
    "id": "r9V4VhAySZ-X",
    "papermill": {
     "duration": 2.539906,
     "end_time": "2025-07-08T12:55:43.817090",
     "exception": false,
     "start_time": "2025-07-08T12:55:41.277184",
     "status": "completed"
    },
    "tags": []
   },
   "outputs": [
    {
     "name": "stderr",
     "output_type": "stream",
     "text": [
      "I0000 00:00:1751979342.247981      19 gpu_device.cc:2022] Created device /job:localhost/replica:0/task:0/device:GPU:0 with 15513 MB memory:  -> device: 0, name: Tesla P100-PCIE-16GB, pci bus id: 0000:00:04.0, compute capability: 6.0\n"
     ]
    }
   ],
   "source": [
    "model = Sequential()\n",
    "\n",
    "# Changed nb_filter to filters, nb_row/nb_col to kernel_size, and border_mode to padding\n",
    "\n",
    "# 1st Conv Block\n",
    "model.add(Input(shape=train_set_x_orig.shape[1:]))\n",
    "# model.add(DepthwiseConv2D(kernel_size=(1, 1), padding='same', use_bias=False))\n",
    "# model.add(BatchNormalization())\n",
    "# model.add(Activation('relu'))\n",
    "\n",
    "# 2st Conv Block\n",
    "model.add(Conv2D(filters=32, kernel_size=(1, 1), padding='same', use_bias=False))\n",
    "model.add(BatchNormalization())\n",
    "# model.add(LeakyReLU(alpha=0.01))\n",
    "model.add(LeakyReLU(negative_slope=0.01))\n",
    "model.add(MaxPooling2D(pool_size=(2, 2), strides=(2, 2)))\n",
    "model.add(Dropout(0.25)) # Drop 25% of neurons\n",
    "\n",
    "# 3nd Conv Block\n",
    "model.add(Conv2D(filters=64, kernel_size=(1, 1), padding='same', use_bias=False)) #32 → 64 → 128\n",
    "model.add(BatchNormalization())\n",
    "model.add(Activation('relu'))\n",
    "model.add(MaxPooling2D(pool_size=(2, 2), strides=(2, 2)))\n",
    "model.add(Dropout(0.25))\n",
    "\n",
    "# 4rd Conv Block\n",
    "model.add(Conv2D(filters=128, kernel_size=(1, 1), padding='same', use_bias=False))\n",
    "model.add(BatchNormalization())\n",
    "model.add(Activation('relu'))\n",
    "model.add(MaxPooling2D(pool_size=(2, 2), strides=(2, 2)))\n",
    "model.add(Dropout(0.25))\n",
    "\n",
    "# Dense Layers\n",
    "model.add(Flatten())\n",
    "\n",
    "# If your last Conv2D output is (batch_size, 8, 8, 20)\n",
    "# → GlobalAveragePooling2D() will give (batch_size, 20) instead of (batch_size, 8*8*20 = 1280) like Flatten does.\n",
    "# That’s a huge reduction in parameters before the dense layers.\n",
    "# model.add(GlobalAveragePooling2D())\n",
    "\n",
    "model.add(Dense(units=128, use_bias=False)) #units are neurons\n",
    "model.add(BatchNormalization())\n",
    "model.add(Activation('relu'))\n",
    "model.add(Dropout(0.3))  # Drop 30%\n",
    "\n",
    "model.add(Dense(units=64, use_bias=False))\n",
    "model.add(BatchNormalization())\n",
    "model.add(Activation('relu'))\n",
    "model.add(Dropout(0.3))\n",
    "\n",
    "model.add(Dense(units=1, activation='sigmoid'))  # Binary classification\n"
   ]
  },
  {
   "cell_type": "markdown",
   "id": "51c20afa",
   "metadata": {
    "id": "06929f2d-53dc-49b9-a0a9-1c7717612346",
    "papermill": {
     "duration": 0.00843,
     "end_time": "2025-07-08T12:55:43.834739",
     "exception": false,
     "start_time": "2025-07-08T12:55:43.826309",
     "status": "completed"
    },
    "tags": []
   },
   "source": [
    "### 3.3 Compilation"
   ]
  },
  {
   "cell_type": "code",
   "execution_count": 26,
   "id": "5f122b07",
   "metadata": {
    "execution": {
     "iopub.execute_input": "2025-07-08T12:55:43.852523Z",
     "iopub.status.busy": "2025-07-08T12:55:43.852320Z",
     "iopub.status.idle": "2025-07-08T12:55:43.863405Z",
     "shell.execute_reply": "2025-07-08T12:55:43.862909Z"
    },
    "id": "0904ba7c-45f8-49a7-a9b4-ec842521182e",
    "papermill": {
     "duration": 0.021275,
     "end_time": "2025-07-08T12:55:43.864455",
     "exception": false,
     "start_time": "2025-07-08T12:55:43.843180",
     "status": "completed"
    },
    "tags": []
   },
   "outputs": [],
   "source": [
    "learning_rate = 0.0001\n",
    "opt = Adam(learning_rate=learning_rate)\n",
    "model.compile(optimizer=opt, loss='binary_crossentropy', metrics=['accuracy'])\n"
   ]
  },
  {
   "cell_type": "code",
   "execution_count": 27,
   "id": "69dceaa1",
   "metadata": {
    "execution": {
     "iopub.execute_input": "2025-07-08T12:55:43.882734Z",
     "iopub.status.busy": "2025-07-08T12:55:43.882532Z",
     "iopub.status.idle": "2025-07-08T12:55:43.885784Z",
     "shell.execute_reply": "2025-07-08T12:55:43.885049Z"
    },
    "papermill": {
     "duration": 0.013379,
     "end_time": "2025-07-08T12:55:43.886774",
     "exception": false,
     "start_time": "2025-07-08T12:55:43.873395",
     "status": "completed"
    },
    "tags": []
   },
   "outputs": [],
   "source": [
    "# !pip install --upgrade tensorflow"
   ]
  },
  {
   "cell_type": "code",
   "execution_count": 28,
   "id": "9bc436a9",
   "metadata": {
    "execution": {
     "iopub.execute_input": "2025-07-08T12:55:43.905095Z",
     "iopub.status.busy": "2025-07-08T12:55:43.904367Z",
     "iopub.status.idle": "2025-07-08T12:56:08.740065Z",
     "shell.execute_reply": "2025-07-08T12:56:08.739321Z"
    },
    "id": "2e8gj0MmE-L_",
    "papermill": {
     "duration": 24.845933,
     "end_time": "2025-07-08T12:56:08.741382",
     "exception": false,
     "start_time": "2025-07-08T12:55:43.895449",
     "status": "completed"
    },
    "tags": []
   },
   "outputs": [
    {
     "name": "stdout",
     "output_type": "stream",
     "text": [
      "Epoch 1/150\n"
     ]
    },
    {
     "name": "stderr",
     "output_type": "stream",
     "text": [
      "2025-07-08 12:55:44.020541: E tensorflow/core/framework/node_def_util.cc:676] NodeDef mentions attribute use_unbounded_threadpool which is not in the op definition: Op<name=MapDataset; signature=input_dataset:variant, other_arguments: -> handle:variant; attr=f:func; attr=Targuments:list(type),min=0; attr=output_types:list(type),min=1; attr=output_shapes:list(shape),min=1; attr=use_inter_op_parallelism:bool,default=true; attr=preserve_cardinality:bool,default=false; attr=force_synchronous:bool,default=false; attr=metadata:string,default=\"\"> This may be expected if your graph generating binary is newer  than this binary. Unknown attributes will be ignored. NodeDef: {{node ParallelMapDatasetV2/_15}}\n",
      "E0000 00:00:1751979348.594636      19 meta_optimizer.cc:966] layout failed: INVALID_ARGUMENT: Size of values 0 does not match size of permutation 4 @ fanin shape inStatefulPartitionedCall/sequential_1/dropout_1/stateless_dropout/SelectV2-2-TransposeNHWCToNCHW-LayoutOptimizer\n",
      "I0000 00:00:1751979349.444925      62 cuda_dnn.cc:529] Loaded cuDNN version 90300\n"
     ]
    },
    {
     "name": "stdout",
     "output_type": "stream",
     "text": [
      "\u001b[1m7/7\u001b[0m \u001b[32m━━━━━━━━━━━━━━━━━━━━\u001b[0m\u001b[37m\u001b[0m \u001b[1m7s\u001b[0m 15ms/step - accuracy: 0.6371 - loss: 0.7287\n",
      "Epoch 2/150\n",
      "\u001b[1m7/7\u001b[0m \u001b[32m━━━━━━━━━━━━━━━━━━━━\u001b[0m\u001b[37m\u001b[0m \u001b[1m0s\u001b[0m 14ms/step - accuracy: 0.6555 - loss: 0.6210\n",
      "Epoch 3/150\n",
      "\u001b[1m7/7\u001b[0m \u001b[32m━━━━━━━━━━━━━━━━━━━━\u001b[0m\u001b[37m\u001b[0m \u001b[1m0s\u001b[0m 14ms/step - accuracy: 0.6820 - loss: 0.5857\n",
      "Epoch 4/150\n",
      "\u001b[1m7/7\u001b[0m \u001b[32m━━━━━━━━━━━━━━━━━━━━\u001b[0m\u001b[37m\u001b[0m \u001b[1m0s\u001b[0m 13ms/step - accuracy: 0.7427 - loss: 0.5090\n",
      "Epoch 5/150\n",
      "\u001b[1m7/7\u001b[0m \u001b[32m━━━━━━━━━━━━━━━━━━━━\u001b[0m\u001b[37m\u001b[0m \u001b[1m0s\u001b[0m 14ms/step - accuracy: 0.6895 - loss: 0.5251\n",
      "Epoch 6/150\n",
      "\u001b[1m7/7\u001b[0m \u001b[32m━━━━━━━━━━━━━━━━━━━━\u001b[0m\u001b[37m\u001b[0m \u001b[1m0s\u001b[0m 13ms/step - accuracy: 0.7549 - loss: 0.5075\n",
      "Epoch 7/150\n",
      "\u001b[1m7/7\u001b[0m \u001b[32m━━━━━━━━━━━━━━━━━━━━\u001b[0m\u001b[37m\u001b[0m \u001b[1m0s\u001b[0m 13ms/step - accuracy: 0.7501 - loss: 0.4885\n",
      "Epoch 8/150\n",
      "\u001b[1m7/7\u001b[0m \u001b[32m━━━━━━━━━━━━━━━━━━━━\u001b[0m\u001b[37m\u001b[0m \u001b[1m0s\u001b[0m 13ms/step - accuracy: 0.7897 - loss: 0.4475\n",
      "Epoch 9/150\n",
      "\u001b[1m7/7\u001b[0m \u001b[32m━━━━━━━━━━━━━━━━━━━━\u001b[0m\u001b[37m\u001b[0m \u001b[1m0s\u001b[0m 13ms/step - accuracy: 0.8480 - loss: 0.4047\n",
      "Epoch 10/150\n",
      "\u001b[1m7/7\u001b[0m \u001b[32m━━━━━━━━━━━━━━━━━━━━\u001b[0m\u001b[37m\u001b[0m \u001b[1m0s\u001b[0m 13ms/step - accuracy: 0.7988 - loss: 0.4074\n",
      "Epoch 11/150\n",
      "\u001b[1m7/7\u001b[0m \u001b[32m━━━━━━━━━━━━━━━━━━━━\u001b[0m\u001b[37m\u001b[0m \u001b[1m0s\u001b[0m 13ms/step - accuracy: 0.8235 - loss: 0.4048\n",
      "Epoch 12/150\n",
      "\u001b[1m7/7\u001b[0m \u001b[32m━━━━━━━━━━━━━━━━━━━━\u001b[0m\u001b[37m\u001b[0m \u001b[1m0s\u001b[0m 13ms/step - accuracy: 0.7872 - loss: 0.4300\n",
      "Epoch 13/150\n",
      "\u001b[1m7/7\u001b[0m \u001b[32m━━━━━━━━━━━━━━━━━━━━\u001b[0m\u001b[37m\u001b[0m \u001b[1m0s\u001b[0m 13ms/step - accuracy: 0.8084 - loss: 0.3977\n",
      "Epoch 14/150\n",
      "\u001b[1m7/7\u001b[0m \u001b[32m━━━━━━━━━━━━━━━━━━━━\u001b[0m\u001b[37m\u001b[0m \u001b[1m0s\u001b[0m 13ms/step - accuracy: 0.8413 - loss: 0.3853\n",
      "Epoch 15/150\n",
      "\u001b[1m7/7\u001b[0m \u001b[32m━━━━━━━━━━━━━━━━━━━━\u001b[0m\u001b[37m\u001b[0m \u001b[1m0s\u001b[0m 14ms/step - accuracy: 0.8686 - loss: 0.3472\n",
      "Epoch 16/150\n",
      "\u001b[1m7/7\u001b[0m \u001b[32m━━━━━━━━━━━━━━━━━━━━\u001b[0m\u001b[37m\u001b[0m \u001b[1m0s\u001b[0m 13ms/step - accuracy: 0.8331 - loss: 0.3726\n",
      "Epoch 17/150\n",
      "\u001b[1m7/7\u001b[0m \u001b[32m━━━━━━━━━━━━━━━━━━━━\u001b[0m\u001b[37m\u001b[0m \u001b[1m0s\u001b[0m 13ms/step - accuracy: 0.8574 - loss: 0.3448\n",
      "Epoch 18/150\n",
      "\u001b[1m7/7\u001b[0m \u001b[32m━━━━━━━━━━━━━━━━━━━━\u001b[0m\u001b[37m\u001b[0m \u001b[1m0s\u001b[0m 13ms/step - accuracy: 0.8422 - loss: 0.3644\n",
      "Epoch 19/150\n",
      "\u001b[1m7/7\u001b[0m \u001b[32m━━━━━━━━━━━━━━━━━━━━\u001b[0m\u001b[37m\u001b[0m \u001b[1m0s\u001b[0m 14ms/step - accuracy: 0.8619 - loss: 0.3377\n",
      "Epoch 20/150\n",
      "\u001b[1m7/7\u001b[0m \u001b[32m━━━━━━━━━━━━━━━━━━━━\u001b[0m\u001b[37m\u001b[0m \u001b[1m0s\u001b[0m 16ms/step - accuracy: 0.9006 - loss: 0.3300\n",
      "Epoch 21/150\n",
      "\u001b[1m7/7\u001b[0m \u001b[32m━━━━━━━━━━━━━━━━━━━━\u001b[0m\u001b[37m\u001b[0m \u001b[1m0s\u001b[0m 14ms/step - accuracy: 0.8627 - loss: 0.3359\n",
      "Epoch 22/150\n",
      "\u001b[1m7/7\u001b[0m \u001b[32m━━━━━━━━━━━━━━━━━━━━\u001b[0m\u001b[37m\u001b[0m \u001b[1m0s\u001b[0m 13ms/step - accuracy: 0.8272 - loss: 0.3546\n",
      "Epoch 23/150\n",
      "\u001b[1m7/7\u001b[0m \u001b[32m━━━━━━━━━━━━━━━━━━━━\u001b[0m\u001b[37m\u001b[0m \u001b[1m0s\u001b[0m 13ms/step - accuracy: 0.8534 - loss: 0.3480\n",
      "Epoch 24/150\n",
      "\u001b[1m7/7\u001b[0m \u001b[32m━━━━━━━━━━━━━━━━━━━━\u001b[0m\u001b[37m\u001b[0m \u001b[1m0s\u001b[0m 14ms/step - accuracy: 0.8656 - loss: 0.3250\n",
      "Epoch 25/150\n",
      "\u001b[1m7/7\u001b[0m \u001b[32m━━━━━━━━━━━━━━━━━━━━\u001b[0m\u001b[37m\u001b[0m \u001b[1m0s\u001b[0m 13ms/step - accuracy: 0.9268 - loss: 0.2744\n",
      "Epoch 26/150\n",
      "\u001b[1m7/7\u001b[0m \u001b[32m━━━━━━━━━━━━━━━━━━━━\u001b[0m\u001b[37m\u001b[0m \u001b[1m0s\u001b[0m 13ms/step - accuracy: 0.9016 - loss: 0.2978\n",
      "Epoch 27/150\n",
      "\u001b[1m7/7\u001b[0m \u001b[32m━━━━━━━━━━━━━━━━━━━━\u001b[0m\u001b[37m\u001b[0m \u001b[1m0s\u001b[0m 13ms/step - accuracy: 0.8785 - loss: 0.3083\n",
      "Epoch 28/150\n",
      "\u001b[1m7/7\u001b[0m \u001b[32m━━━━━━━━━━━━━━━━━━━━\u001b[0m\u001b[37m\u001b[0m \u001b[1m0s\u001b[0m 13ms/step - accuracy: 0.8354 - loss: 0.3395\n",
      "Epoch 29/150\n",
      "\u001b[1m7/7\u001b[0m \u001b[32m━━━━━━━━━━━━━━━━━━━━\u001b[0m\u001b[37m\u001b[0m \u001b[1m0s\u001b[0m 14ms/step - accuracy: 0.8989 - loss: 0.3018\n",
      "Epoch 30/150\n",
      "\u001b[1m7/7\u001b[0m \u001b[32m━━━━━━━━━━━━━━━━━━━━\u001b[0m\u001b[37m\u001b[0m \u001b[1m0s\u001b[0m 13ms/step - accuracy: 0.8919 - loss: 0.2730\n",
      "Epoch 31/150\n",
      "\u001b[1m7/7\u001b[0m \u001b[32m━━━━━━━━━━━━━━━━━━━━\u001b[0m\u001b[37m\u001b[0m \u001b[1m0s\u001b[0m 13ms/step - accuracy: 0.9266 - loss: 0.2502\n",
      "Epoch 32/150\n",
      "\u001b[1m7/7\u001b[0m \u001b[32m━━━━━━━━━━━━━━━━━━━━\u001b[0m\u001b[37m\u001b[0m \u001b[1m0s\u001b[0m 13ms/step - accuracy: 0.8998 - loss: 0.2814\n",
      "Epoch 33/150\n",
      "\u001b[1m7/7\u001b[0m \u001b[32m━━━━━━━━━━━━━━━━━━━━\u001b[0m\u001b[37m\u001b[0m \u001b[1m0s\u001b[0m 13ms/step - accuracy: 0.8833 - loss: 0.2865\n",
      "Epoch 34/150\n",
      "\u001b[1m7/7\u001b[0m \u001b[32m━━━━━━━━━━━━━━━━━━━━\u001b[0m\u001b[37m\u001b[0m \u001b[1m0s\u001b[0m 14ms/step - accuracy: 0.9165 - loss: 0.2633\n",
      "Epoch 35/150\n",
      "\u001b[1m7/7\u001b[0m \u001b[32m━━━━━━━━━━━━━━━━━━━━\u001b[0m\u001b[37m\u001b[0m \u001b[1m0s\u001b[0m 13ms/step - accuracy: 0.8987 - loss: 0.2976\n",
      "Epoch 36/150\n",
      "\u001b[1m7/7\u001b[0m \u001b[32m━━━━━━━━━━━━━━━━━━━━\u001b[0m\u001b[37m\u001b[0m \u001b[1m0s\u001b[0m 13ms/step - accuracy: 0.9015 - loss: 0.2651\n",
      "Epoch 37/150\n",
      "\u001b[1m7/7\u001b[0m \u001b[32m━━━━━━━━━━━━━━━━━━━━\u001b[0m\u001b[37m\u001b[0m \u001b[1m0s\u001b[0m 13ms/step - accuracy: 0.9314 - loss: 0.2323\n",
      "Epoch 38/150\n",
      "\u001b[1m7/7\u001b[0m \u001b[32m━━━━━━━━━━━━━━━━━━━━\u001b[0m\u001b[37m\u001b[0m \u001b[1m0s\u001b[0m 13ms/step - accuracy: 0.9236 - loss: 0.2460\n",
      "Epoch 39/150\n",
      "\u001b[1m7/7\u001b[0m \u001b[32m━━━━━━━━━━━━━━━━━━━━\u001b[0m\u001b[37m\u001b[0m \u001b[1m0s\u001b[0m 13ms/step - accuracy: 0.9217 - loss: 0.2426\n",
      "Epoch 40/150\n",
      "\u001b[1m7/7\u001b[0m \u001b[32m━━━━━━━━━━━━━━━━━━━━\u001b[0m\u001b[37m\u001b[0m \u001b[1m0s\u001b[0m 13ms/step - accuracy: 0.8987 - loss: 0.2578\n",
      "Epoch 41/150\n",
      "\u001b[1m7/7\u001b[0m \u001b[32m━━━━━━━━━━━━━━━━━━━━\u001b[0m\u001b[37m\u001b[0m \u001b[1m0s\u001b[0m 14ms/step - accuracy: 0.9057 - loss: 0.2563\n",
      "Epoch 42/150\n",
      "\u001b[1m7/7\u001b[0m \u001b[32m━━━━━━━━━━━━━━━━━━━━\u001b[0m\u001b[37m\u001b[0m \u001b[1m0s\u001b[0m 15ms/step - accuracy: 0.9118 - loss: 0.2272\n",
      "Epoch 43/150\n",
      "\u001b[1m7/7\u001b[0m \u001b[32m━━━━━━━━━━━━━━━━━━━━\u001b[0m\u001b[37m\u001b[0m \u001b[1m0s\u001b[0m 13ms/step - accuracy: 0.9212 - loss: 0.2182\n",
      "Epoch 44/150\n",
      "\u001b[1m7/7\u001b[0m \u001b[32m━━━━━━━━━━━━━━━━━━━━\u001b[0m\u001b[37m\u001b[0m \u001b[1m0s\u001b[0m 14ms/step - accuracy: 0.9131 - loss: 0.2463\n",
      "Epoch 45/150\n",
      "\u001b[1m7/7\u001b[0m \u001b[32m━━━━━━━━━━━━━━━━━━━━\u001b[0m\u001b[37m\u001b[0m \u001b[1m0s\u001b[0m 14ms/step - accuracy: 0.8900 - loss: 0.2700\n",
      "Epoch 46/150\n",
      "\u001b[1m7/7\u001b[0m \u001b[32m━━━━━━━━━━━━━━━━━━━━\u001b[0m\u001b[37m\u001b[0m \u001b[1m0s\u001b[0m 14ms/step - accuracy: 0.9256 - loss: 0.2231\n",
      "Epoch 47/150\n",
      "\u001b[1m7/7\u001b[0m \u001b[32m━━━━━━━━━━━━━━━━━━━━\u001b[0m\u001b[37m\u001b[0m \u001b[1m0s\u001b[0m 14ms/step - accuracy: 0.9372 - loss: 0.2101\n",
      "Epoch 48/150\n",
      "\u001b[1m7/7\u001b[0m \u001b[32m━━━━━━━━━━━━━━━━━━━━\u001b[0m\u001b[37m\u001b[0m \u001b[1m0s\u001b[0m 13ms/step - accuracy: 0.9496 - loss: 0.2004\n",
      "Epoch 49/150\n",
      "\u001b[1m7/7\u001b[0m \u001b[32m━━━━━━━━━━━━━━━━━━━━\u001b[0m\u001b[37m\u001b[0m \u001b[1m0s\u001b[0m 13ms/step - accuracy: 0.9225 - loss: 0.2257\n",
      "Epoch 50/150\n",
      "\u001b[1m7/7\u001b[0m \u001b[32m━━━━━━━━━━━━━━━━━━━━\u001b[0m\u001b[37m\u001b[0m \u001b[1m0s\u001b[0m 14ms/step - accuracy: 0.9243 - loss: 0.2058\n",
      "Epoch 51/150\n",
      "\u001b[1m7/7\u001b[0m \u001b[32m━━━━━━━━━━━━━━━━━━━━\u001b[0m\u001b[37m\u001b[0m \u001b[1m0s\u001b[0m 14ms/step - accuracy: 0.9602 - loss: 0.1985\n",
      "Epoch 52/150\n",
      "\u001b[1m7/7\u001b[0m \u001b[32m━━━━━━━━━━━━━━━━━━━━\u001b[0m\u001b[37m\u001b[0m \u001b[1m0s\u001b[0m 14ms/step - accuracy: 0.9357 - loss: 0.2071\n",
      "Epoch 53/150\n",
      "\u001b[1m7/7\u001b[0m \u001b[32m━━━━━━━━━━━━━━━━━━━━\u001b[0m\u001b[37m\u001b[0m \u001b[1m0s\u001b[0m 13ms/step - accuracy: 0.9305 - loss: 0.2080\n",
      "Epoch 54/150\n",
      "\u001b[1m7/7\u001b[0m \u001b[32m━━━━━━━━━━━━━━━━━━━━\u001b[0m\u001b[37m\u001b[0m \u001b[1m0s\u001b[0m 13ms/step - accuracy: 0.9328 - loss: 0.2047\n",
      "Epoch 55/150\n",
      "\u001b[1m7/7\u001b[0m \u001b[32m━━━━━━━━━━━━━━━━━━━━\u001b[0m\u001b[37m\u001b[0m \u001b[1m0s\u001b[0m 14ms/step - accuracy: 0.9570 - loss: 0.1856\n",
      "Epoch 56/150\n",
      "\u001b[1m7/7\u001b[0m \u001b[32m━━━━━━━━━━━━━━━━━━━━\u001b[0m\u001b[37m\u001b[0m \u001b[1m0s\u001b[0m 14ms/step - accuracy: 0.9453 - loss: 0.1941\n",
      "Epoch 57/150\n",
      "\u001b[1m7/7\u001b[0m \u001b[32m━━━━━━━━━━━━━━━━━━━━\u001b[0m\u001b[37m\u001b[0m \u001b[1m0s\u001b[0m 13ms/step - accuracy: 0.9694 - loss: 0.1733\n",
      "Epoch 58/150\n",
      "\u001b[1m7/7\u001b[0m \u001b[32m━━━━━━━━━━━━━━━━━━━━\u001b[0m\u001b[37m\u001b[0m \u001b[1m0s\u001b[0m 13ms/step - accuracy: 0.9507 - loss: 0.1734\n",
      "Epoch 59/150\n",
      "\u001b[1m7/7\u001b[0m \u001b[32m━━━━━━━━━━━━━━━━━━━━\u001b[0m\u001b[37m\u001b[0m \u001b[1m0s\u001b[0m 14ms/step - accuracy: 0.9549 - loss: 0.1713\n",
      "Epoch 60/150\n",
      "\u001b[1m7/7\u001b[0m \u001b[32m━━━━━━━━━━━━━━━━━━━━\u001b[0m\u001b[37m\u001b[0m \u001b[1m0s\u001b[0m 13ms/step - accuracy: 0.9445 - loss: 0.1967\n",
      "Epoch 61/150\n",
      "\u001b[1m7/7\u001b[0m \u001b[32m━━━━━━━━━━━━━━━━━━━━\u001b[0m\u001b[37m\u001b[0m \u001b[1m0s\u001b[0m 13ms/step - accuracy: 0.9491 - loss: 0.1822\n",
      "Epoch 62/150\n",
      "\u001b[1m7/7\u001b[0m \u001b[32m━━━━━━━━━━━━━━━━━━━━\u001b[0m\u001b[37m\u001b[0m \u001b[1m0s\u001b[0m 13ms/step - accuracy: 0.9461 - loss: 0.1764\n",
      "Epoch 63/150\n",
      "\u001b[1m7/7\u001b[0m \u001b[32m━━━━━━━━━━━━━━━━━━━━\u001b[0m\u001b[37m\u001b[0m \u001b[1m0s\u001b[0m 13ms/step - accuracy: 0.9609 - loss: 0.1631\n",
      "Epoch 64/150\n",
      "\u001b[1m7/7\u001b[0m \u001b[32m━━━━━━━━━━━━━━━━━━━━\u001b[0m\u001b[37m\u001b[0m \u001b[1m0s\u001b[0m 14ms/step - accuracy: 0.9386 - loss: 0.2014\n",
      "Epoch 65/150\n",
      "\u001b[1m7/7\u001b[0m \u001b[32m━━━━━━━━━━━━━━━━━━━━\u001b[0m\u001b[37m\u001b[0m \u001b[1m0s\u001b[0m 14ms/step - accuracy: 0.9553 - loss: 0.1649\n",
      "Epoch 66/150\n",
      "\u001b[1m7/7\u001b[0m \u001b[32m━━━━━━━━━━━━━━━━━━━━\u001b[0m\u001b[37m\u001b[0m \u001b[1m0s\u001b[0m 14ms/step - accuracy: 0.9449 - loss: 0.1771\n",
      "Epoch 67/150\n",
      "\u001b[1m7/7\u001b[0m \u001b[32m━━━━━━━━━━━━━━━━━━━━\u001b[0m\u001b[37m\u001b[0m \u001b[1m0s\u001b[0m 14ms/step - accuracy: 0.9771 - loss: 0.1513\n",
      "Epoch 68/150\n",
      "\u001b[1m7/7\u001b[0m \u001b[32m━━━━━━━━━━━━━━━━━━━━\u001b[0m\u001b[37m\u001b[0m \u001b[1m0s\u001b[0m 14ms/step - accuracy: 0.9394 - loss: 0.1600\n",
      "Epoch 69/150\n",
      "\u001b[1m7/7\u001b[0m \u001b[32m━━━━━━━━━━━━━━━━━━━━\u001b[0m\u001b[37m\u001b[0m \u001b[1m0s\u001b[0m 14ms/step - accuracy: 0.9564 - loss: 0.1536\n",
      "Epoch 70/150\n",
      "\u001b[1m7/7\u001b[0m \u001b[32m━━━━━━━━━━━━━━━━━━━━\u001b[0m\u001b[37m\u001b[0m \u001b[1m0s\u001b[0m 14ms/step - accuracy: 0.9514 - loss: 0.1744\n",
      "Epoch 71/150\n",
      "\u001b[1m7/7\u001b[0m \u001b[32m━━━━━━━━━━━━━━━━━━━━\u001b[0m\u001b[37m\u001b[0m \u001b[1m0s\u001b[0m 14ms/step - accuracy: 0.9694 - loss: 0.1521\n",
      "Epoch 72/150\n",
      "\u001b[1m7/7\u001b[0m \u001b[32m━━━━━━━━━━━━━━━━━━━━\u001b[0m\u001b[37m\u001b[0m \u001b[1m0s\u001b[0m 14ms/step - accuracy: 0.9716 - loss: 0.1330\n",
      "Epoch 73/150\n",
      "\u001b[1m7/7\u001b[0m \u001b[32m━━━━━━━━━━━━━━━━━━━━\u001b[0m\u001b[37m\u001b[0m \u001b[1m0s\u001b[0m 14ms/step - accuracy: 0.9543 - loss: 0.1384\n",
      "Epoch 74/150\n",
      "\u001b[1m7/7\u001b[0m \u001b[32m━━━━━━━━━━━━━━━━━━━━\u001b[0m\u001b[37m\u001b[0m \u001b[1m0s\u001b[0m 14ms/step - accuracy: 0.9737 - loss: 0.1349\n",
      "Epoch 75/150\n",
      "\u001b[1m7/7\u001b[0m \u001b[32m━━━━━━━━━━━━━━━━━━━━\u001b[0m\u001b[37m\u001b[0m \u001b[1m0s\u001b[0m 14ms/step - accuracy: 0.9448 - loss: 0.1494\n",
      "Epoch 76/150\n",
      "\u001b[1m7/7\u001b[0m \u001b[32m━━━━━━━━━━━━━━━━━━━━\u001b[0m\u001b[37m\u001b[0m \u001b[1m0s\u001b[0m 14ms/step - accuracy: 0.9651 - loss: 0.1317\n",
      "Epoch 77/150\n",
      "\u001b[1m7/7\u001b[0m \u001b[32m━━━━━━━━━━━━━━━━━━━━\u001b[0m\u001b[37m\u001b[0m \u001b[1m0s\u001b[0m 13ms/step - accuracy: 0.9740 - loss: 0.1177\n",
      "Epoch 78/150\n",
      "\u001b[1m7/7\u001b[0m \u001b[32m━━━━━━━━━━━━━━━━━━━━\u001b[0m\u001b[37m\u001b[0m \u001b[1m0s\u001b[0m 13ms/step - accuracy: 0.9782 - loss: 0.1343\n",
      "Epoch 79/150\n",
      "\u001b[1m7/7\u001b[0m \u001b[32m━━━━━━━━━━━━━━━━━━━━\u001b[0m\u001b[37m\u001b[0m \u001b[1m0s\u001b[0m 13ms/step - accuracy: 0.9610 - loss: 0.1385\n",
      "Epoch 80/150\n",
      "\u001b[1m7/7\u001b[0m \u001b[32m━━━━━━━━━━━━━━━━━━━━\u001b[0m\u001b[37m\u001b[0m \u001b[1m0s\u001b[0m 14ms/step - accuracy: 0.9840 - loss: 0.1082\n",
      "Epoch 81/150\n",
      "\u001b[1m7/7\u001b[0m \u001b[32m━━━━━━━━━━━━━━━━━━━━\u001b[0m\u001b[37m\u001b[0m \u001b[1m0s\u001b[0m 13ms/step - accuracy: 0.9874 - loss: 0.1151\n",
      "Epoch 82/150\n",
      "\u001b[1m7/7\u001b[0m \u001b[32m━━━━━━━━━━━━━━━━━━━━\u001b[0m\u001b[37m\u001b[0m \u001b[1m0s\u001b[0m 13ms/step - accuracy: 0.9793 - loss: 0.1306\n",
      "Epoch 83/150\n",
      "\u001b[1m7/7\u001b[0m \u001b[32m━━━━━━━━━━━━━━━━━━━━\u001b[0m\u001b[37m\u001b[0m \u001b[1m0s\u001b[0m 13ms/step - accuracy: 0.9762 - loss: 0.1123\n",
      "Epoch 84/150\n",
      "\u001b[1m7/7\u001b[0m \u001b[32m━━━━━━━━━━━━━━━━━━━━\u001b[0m\u001b[37m\u001b[0m \u001b[1m0s\u001b[0m 13ms/step - accuracy: 0.9700 - loss: 0.1265\n",
      "Epoch 85/150\n",
      "\u001b[1m7/7\u001b[0m \u001b[32m━━━━━━━━━━━━━━━━━━━━\u001b[0m\u001b[37m\u001b[0m \u001b[1m0s\u001b[0m 13ms/step - accuracy: 0.9911 - loss: 0.1048\n",
      "Epoch 86/150\n",
      "\u001b[1m7/7\u001b[0m \u001b[32m━━━━━━━━━━━━━━━━━━━━\u001b[0m\u001b[37m\u001b[0m \u001b[1m0s\u001b[0m 13ms/step - accuracy: 0.9639 - loss: 0.1213\n",
      "Epoch 87/150\n",
      "\u001b[1m7/7\u001b[0m \u001b[32m━━━━━━━━━━━━━━━━━━━━\u001b[0m\u001b[37m\u001b[0m \u001b[1m0s\u001b[0m 14ms/step - accuracy: 0.9883 - loss: 0.1110\n",
      "Epoch 88/150\n",
      "\u001b[1m7/7\u001b[0m \u001b[32m━━━━━━━━━━━━━━━━━━━━\u001b[0m\u001b[37m\u001b[0m \u001b[1m0s\u001b[0m 13ms/step - accuracy: 0.9769 - loss: 0.0980\n",
      "Epoch 89/150\n",
      "\u001b[1m7/7\u001b[0m \u001b[32m━━━━━━━━━━━━━━━━━━━━\u001b[0m\u001b[37m\u001b[0m \u001b[1m0s\u001b[0m 14ms/step - accuracy: 0.9850 - loss: 0.1108\n",
      "Epoch 90/150\n",
      "\u001b[1m7/7\u001b[0m \u001b[32m━━━━━━━━━━━━━━━━━━━━\u001b[0m\u001b[37m\u001b[0m \u001b[1m0s\u001b[0m 14ms/step - accuracy: 0.9692 - loss: 0.1324\n",
      "Epoch 91/150\n",
      "\u001b[1m7/7\u001b[0m \u001b[32m━━━━━━━━━━━━━━━━━━━━\u001b[0m\u001b[37m\u001b[0m \u001b[1m0s\u001b[0m 14ms/step - accuracy: 0.9748 - loss: 0.1277\n",
      "Epoch 92/150\n",
      "\u001b[1m7/7\u001b[0m \u001b[32m━━━━━━━━━━━━━━━━━━━━\u001b[0m\u001b[37m\u001b[0m \u001b[1m0s\u001b[0m 13ms/step - accuracy: 0.9661 - loss: 0.1150\n",
      "Epoch 93/150\n",
      "\u001b[1m7/7\u001b[0m \u001b[32m━━━━━━━━━━━━━━━━━━━━\u001b[0m\u001b[37m\u001b[0m \u001b[1m0s\u001b[0m 13ms/step - accuracy: 0.9726 - loss: 0.1276\n",
      "Epoch 94/150\n",
      "\u001b[1m7/7\u001b[0m \u001b[32m━━━━━━━━━━━━━━━━━━━━\u001b[0m\u001b[37m\u001b[0m \u001b[1m0s\u001b[0m 14ms/step - accuracy: 0.9744 - loss: 0.1061\n",
      "Epoch 95/150\n",
      "\u001b[1m7/7\u001b[0m \u001b[32m━━━━━━━━━━━━━━━━━━━━\u001b[0m\u001b[37m\u001b[0m \u001b[1m0s\u001b[0m 14ms/step - accuracy: 0.9748 - loss: 0.1040\n",
      "Epoch 96/150\n",
      "\u001b[1m7/7\u001b[0m \u001b[32m━━━━━━━━━━━━━━━━━━━━\u001b[0m\u001b[37m\u001b[0m \u001b[1m0s\u001b[0m 14ms/step - accuracy: 0.9794 - loss: 0.1056\n",
      "Epoch 97/150\n",
      "\u001b[1m7/7\u001b[0m \u001b[32m━━━━━━━━━━━━━━━━━━━━\u001b[0m\u001b[37m\u001b[0m \u001b[1m0s\u001b[0m 14ms/step - accuracy: 0.9756 - loss: 0.1196\n",
      "Epoch 98/150\n",
      "\u001b[1m7/7\u001b[0m \u001b[32m━━━━━━━━━━━━━━━━━━━━\u001b[0m\u001b[37m\u001b[0m \u001b[1m0s\u001b[0m 14ms/step - accuracy: 0.9883 - loss: 0.0920\n",
      "Epoch 99/150\n",
      "\u001b[1m7/7\u001b[0m \u001b[32m━━━━━━━━━━━━━━━━━━━━\u001b[0m\u001b[37m\u001b[0m \u001b[1m0s\u001b[0m 14ms/step - accuracy: 0.9785 - loss: 0.1074\n",
      "Epoch 100/150\n",
      "\u001b[1m7/7\u001b[0m \u001b[32m━━━━━━━━━━━━━━━━━━━━\u001b[0m\u001b[37m\u001b[0m \u001b[1m0s\u001b[0m 14ms/step - accuracy: 0.9730 - loss: 0.1053\n",
      "Epoch 101/150\n",
      "\u001b[1m7/7\u001b[0m \u001b[32m━━━━━━━━━━━━━━━━━━━━\u001b[0m\u001b[37m\u001b[0m \u001b[1m0s\u001b[0m 14ms/step - accuracy: 0.9843 - loss: 0.1112\n",
      "Epoch 102/150\n",
      "\u001b[1m7/7\u001b[0m \u001b[32m━━━━━━━━━━━━━━━━━━━━\u001b[0m\u001b[37m\u001b[0m \u001b[1m0s\u001b[0m 14ms/step - accuracy: 0.9951 - loss: 0.0987\n",
      "Epoch 103/150\n",
      "\u001b[1m7/7\u001b[0m \u001b[32m━━━━━━━━━━━━━━━━━━━━\u001b[0m\u001b[37m\u001b[0m \u001b[1m0s\u001b[0m 14ms/step - accuracy: 0.9736 - loss: 0.1014\n",
      "Epoch 104/150\n",
      "\u001b[1m7/7\u001b[0m \u001b[32m━━━━━━━━━━━━━━━━━━━━\u001b[0m\u001b[37m\u001b[0m \u001b[1m0s\u001b[0m 14ms/step - accuracy: 0.9797 - loss: 0.0904\n",
      "Epoch 105/150\n",
      "\u001b[1m7/7\u001b[0m \u001b[32m━━━━━━━━━━━━━━━━━━━━\u001b[0m\u001b[37m\u001b[0m \u001b[1m0s\u001b[0m 14ms/step - accuracy: 0.9951 - loss: 0.0766\n",
      "Epoch 106/150\n",
      "\u001b[1m7/7\u001b[0m \u001b[32m━━━━━━━━━━━━━━━━━━━━\u001b[0m\u001b[37m\u001b[0m \u001b[1m0s\u001b[0m 14ms/step - accuracy: 0.9876 - loss: 0.0807\n",
      "Epoch 107/150\n",
      "\u001b[1m7/7\u001b[0m \u001b[32m━━━━━━━━━━━━━━━━━━━━\u001b[0m\u001b[37m\u001b[0m \u001b[1m0s\u001b[0m 14ms/step - accuracy: 0.9794 - loss: 0.0939\n",
      "Epoch 108/150\n",
      "\u001b[1m7/7\u001b[0m \u001b[32m━━━━━━━━━━━━━━━━━━━━\u001b[0m\u001b[37m\u001b[0m \u001b[1m0s\u001b[0m 14ms/step - accuracy: 0.9568 - loss: 0.1017\n",
      "Epoch 109/150\n",
      "\u001b[1m7/7\u001b[0m \u001b[32m━━━━━━━━━━━━━━━━━━━━\u001b[0m\u001b[37m\u001b[0m \u001b[1m0s\u001b[0m 16ms/step - accuracy: 0.9876 - loss: 0.0896\n",
      "Epoch 110/150\n",
      "\u001b[1m7/7\u001b[0m \u001b[32m━━━━━━━━━━━━━━━━━━━━\u001b[0m\u001b[37m\u001b[0m \u001b[1m0s\u001b[0m 14ms/step - accuracy: 0.9887 - loss: 0.0764\n",
      "Epoch 111/150\n",
      "\u001b[1m7/7\u001b[0m \u001b[32m━━━━━━━━━━━━━━━━━━━━\u001b[0m\u001b[37m\u001b[0m \u001b[1m0s\u001b[0m 14ms/step - accuracy: 0.9915 - loss: 0.0797\n",
      "Epoch 112/150\n",
      "\u001b[1m7/7\u001b[0m \u001b[32m━━━━━━━━━━━━━━━━━━━━\u001b[0m\u001b[37m\u001b[0m \u001b[1m0s\u001b[0m 14ms/step - accuracy: 0.9974 - loss: 0.0730\n",
      "Epoch 113/150\n",
      "\u001b[1m7/7\u001b[0m \u001b[32m━━━━━━━━━━━━━━━━━━━━\u001b[0m\u001b[37m\u001b[0m \u001b[1m0s\u001b[0m 14ms/step - accuracy: 0.9736 - loss: 0.0882\n",
      "Epoch 114/150\n",
      "\u001b[1m7/7\u001b[0m \u001b[32m━━━━━━━━━━━━━━━━━━━━\u001b[0m\u001b[37m\u001b[0m \u001b[1m0s\u001b[0m 14ms/step - accuracy: 0.9902 - loss: 0.0727\n",
      "Epoch 115/150\n",
      "\u001b[1m7/7\u001b[0m \u001b[32m━━━━━━━━━━━━━━━━━━━━\u001b[0m\u001b[37m\u001b[0m \u001b[1m0s\u001b[0m 14ms/step - accuracy: 0.9775 - loss: 0.0899\n",
      "Epoch 116/150\n",
      "\u001b[1m7/7\u001b[0m \u001b[32m━━━━━━━━━━━━━━━━━━━━\u001b[0m\u001b[37m\u001b[0m \u001b[1m0s\u001b[0m 14ms/step - accuracy: 0.9892 - loss: 0.0829\n",
      "Epoch 117/150\n",
      "\u001b[1m7/7\u001b[0m \u001b[32m━━━━━━━━━━━━━━━━━━━━\u001b[0m\u001b[37m\u001b[0m \u001b[1m0s\u001b[0m 14ms/step - accuracy: 0.9955 - loss: 0.0629\n",
      "Epoch 118/150\n",
      "\u001b[1m7/7\u001b[0m \u001b[32m━━━━━━━━━━━━━━━━━━━━\u001b[0m\u001b[37m\u001b[0m \u001b[1m0s\u001b[0m 14ms/step - accuracy: 0.9951 - loss: 0.0674\n",
      "Epoch 119/150\n",
      "\u001b[1m7/7\u001b[0m \u001b[32m━━━━━━━━━━━━━━━━━━━━\u001b[0m\u001b[37m\u001b[0m \u001b[1m0s\u001b[0m 15ms/step - accuracy: 0.9895 - loss: 0.0781\n",
      "Epoch 120/150\n",
      "\u001b[1m7/7\u001b[0m \u001b[32m━━━━━━━━━━━━━━━━━━━━\u001b[0m\u001b[37m\u001b[0m \u001b[1m0s\u001b[0m 15ms/step - accuracy: 0.9925 - loss: 0.0707\n",
      "Epoch 121/150\n",
      "\u001b[1m7/7\u001b[0m \u001b[32m━━━━━━━━━━━━━━━━━━━━\u001b[0m\u001b[37m\u001b[0m \u001b[1m0s\u001b[0m 15ms/step - accuracy: 0.9766 - loss: 0.0808\n",
      "Epoch 122/150\n",
      "\u001b[1m7/7\u001b[0m \u001b[32m━━━━━━━━━━━━━━━━━━━━\u001b[0m\u001b[37m\u001b[0m \u001b[1m0s\u001b[0m 14ms/step - accuracy: 0.9866 - loss: 0.0752\n",
      "Epoch 123/150\n",
      "\u001b[1m7/7\u001b[0m \u001b[32m━━━━━━━━━━━━━━━━━━━━\u001b[0m\u001b[37m\u001b[0m \u001b[1m0s\u001b[0m 16ms/step - accuracy: 0.9925 - loss: 0.0689\n",
      "Epoch 124/150\n",
      "\u001b[1m7/7\u001b[0m \u001b[32m━━━━━━━━━━━━━━━━━━━━\u001b[0m\u001b[37m\u001b[0m \u001b[1m0s\u001b[0m 14ms/step - accuracy: 0.9982 - loss: 0.0546\n",
      "Epoch 125/150\n",
      "\u001b[1m7/7\u001b[0m \u001b[32m━━━━━━━━━━━━━━━━━━━━\u001b[0m\u001b[37m\u001b[0m \u001b[1m0s\u001b[0m 15ms/step - accuracy: 1.0000 - loss: 0.0600\n",
      "Epoch 126/150\n",
      "\u001b[1m7/7\u001b[0m \u001b[32m━━━━━━━━━━━━━━━━━━━━\u001b[0m\u001b[37m\u001b[0m \u001b[1m0s\u001b[0m 15ms/step - accuracy: 0.9951 - loss: 0.0593\n",
      "Epoch 127/150\n",
      "\u001b[1m7/7\u001b[0m \u001b[32m━━━━━━━━━━━━━━━━━━━━\u001b[0m\u001b[37m\u001b[0m \u001b[1m0s\u001b[0m 14ms/step - accuracy: 0.9951 - loss: 0.0706\n",
      "Epoch 128/150\n",
      "\u001b[1m7/7\u001b[0m \u001b[32m━━━━━━━━━━━━━━━━━━━━\u001b[0m\u001b[37m\u001b[0m \u001b[1m0s\u001b[0m 14ms/step - accuracy: 0.9931 - loss: 0.0720\n",
      "Epoch 129/150\n",
      "\u001b[1m7/7\u001b[0m \u001b[32m━━━━━━━━━━━━━━━━━━━━\u001b[0m\u001b[37m\u001b[0m \u001b[1m0s\u001b[0m 15ms/step - accuracy: 1.0000 - loss: 0.0611\n",
      "Epoch 130/150\n",
      "\u001b[1m7/7\u001b[0m \u001b[32m━━━━━━━━━━━━━━━━━━━━\u001b[0m\u001b[37m\u001b[0m \u001b[1m0s\u001b[0m 14ms/step - accuracy: 1.0000 - loss: 0.0681\n",
      "Epoch 131/150\n",
      "\u001b[1m7/7\u001b[0m \u001b[32m━━━━━━━━━━━━━━━━━━━━\u001b[0m\u001b[37m\u001b[0m \u001b[1m0s\u001b[0m 14ms/step - accuracy: 1.0000 - loss: 0.0600\n",
      "Epoch 132/150\n",
      "\u001b[1m7/7\u001b[0m \u001b[32m━━━━━━━━━━━━━━━━━━━━\u001b[0m\u001b[37m\u001b[0m \u001b[1m0s\u001b[0m 14ms/step - accuracy: 0.9874 - loss: 0.0762\n",
      "Epoch 133/150\n",
      "\u001b[1m7/7\u001b[0m \u001b[32m━━━━━━━━━━━━━━━━━━━━\u001b[0m\u001b[37m\u001b[0m \u001b[1m0s\u001b[0m 13ms/step - accuracy: 0.9982 - loss: 0.0693\n",
      "Epoch 134/150\n",
      "\u001b[1m7/7\u001b[0m \u001b[32m━━━━━━━━━━━━━━━━━━━━\u001b[0m\u001b[37m\u001b[0m \u001b[1m0s\u001b[0m 13ms/step - accuracy: 0.9931 - loss: 0.0629\n",
      "Epoch 135/150\n",
      "\u001b[1m7/7\u001b[0m \u001b[32m━━━━━━━━━━━━━━━━━━━━\u001b[0m\u001b[37m\u001b[0m \u001b[1m0s\u001b[0m 13ms/step - accuracy: 0.9974 - loss: 0.0544\n",
      "Epoch 136/150\n",
      "\u001b[1m7/7\u001b[0m \u001b[32m━━━━━━━━━━━━━━━━━━━━\u001b[0m\u001b[37m\u001b[0m \u001b[1m0s\u001b[0m 13ms/step - accuracy: 0.9932 - loss: 0.0659\n",
      "Epoch 137/150\n",
      "\u001b[1m7/7\u001b[0m \u001b[32m━━━━━━━━━━━━━━━━━━━━\u001b[0m\u001b[37m\u001b[0m \u001b[1m0s\u001b[0m 13ms/step - accuracy: 0.9824 - loss: 0.0730\n",
      "Epoch 138/150\n",
      "\u001b[1m7/7\u001b[0m \u001b[32m━━━━━━━━━━━━━━━━━━━━\u001b[0m\u001b[37m\u001b[0m \u001b[1m0s\u001b[0m 13ms/step - accuracy: 0.9925 - loss: 0.0712\n",
      "Epoch 139/150\n",
      "\u001b[1m7/7\u001b[0m \u001b[32m━━━━━━━━━━━━━━━━━━━━\u001b[0m\u001b[37m\u001b[0m \u001b[1m0s\u001b[0m 14ms/step - accuracy: 0.9825 - loss: 0.0642\n",
      "Epoch 140/150\n",
      "\u001b[1m7/7\u001b[0m \u001b[32m━━━━━━━━━━━━━━━━━━━━\u001b[0m\u001b[37m\u001b[0m \u001b[1m0s\u001b[0m 13ms/step - accuracy: 0.9931 - loss: 0.0621\n",
      "Epoch 141/150\n",
      "\u001b[1m7/7\u001b[0m \u001b[32m━━━━━━━━━━━━━━━━━━━━\u001b[0m\u001b[37m\u001b[0m \u001b[1m0s\u001b[0m 13ms/step - accuracy: 0.9947 - loss: 0.0633\n",
      "Epoch 142/150\n",
      "\u001b[1m7/7\u001b[0m \u001b[32m━━━━━━━━━━━━━━━━━━━━\u001b[0m\u001b[37m\u001b[0m \u001b[1m0s\u001b[0m 13ms/step - accuracy: 0.9931 - loss: 0.0467\n",
      "Epoch 143/150\n",
      "\u001b[1m7/7\u001b[0m \u001b[32m━━━━━━━━━━━━━━━━━━━━\u001b[0m\u001b[37m\u001b[0m \u001b[1m0s\u001b[0m 14ms/step - accuracy: 1.0000 - loss: 0.0510\n",
      "Epoch 144/150\n",
      "\u001b[1m7/7\u001b[0m \u001b[32m━━━━━━━━━━━━━━━━━━━━\u001b[0m\u001b[37m\u001b[0m \u001b[1m0s\u001b[0m 13ms/step - accuracy: 0.9988 - loss: 0.0443\n",
      "Epoch 145/150\n",
      "\u001b[1m7/7\u001b[0m \u001b[32m━━━━━━━━━━━━━━━━━━━━\u001b[0m\u001b[37m\u001b[0m \u001b[1m0s\u001b[0m 13ms/step - accuracy: 0.9951 - loss: 0.0590\n",
      "Epoch 146/150\n",
      "\u001b[1m7/7\u001b[0m \u001b[32m━━━━━━━━━━━━━━━━━━━━\u001b[0m\u001b[37m\u001b[0m \u001b[1m0s\u001b[0m 13ms/step - accuracy: 1.0000 - loss: 0.0419\n",
      "Epoch 147/150\n",
      "\u001b[1m7/7\u001b[0m \u001b[32m━━━━━━━━━━━━━━━━━━━━\u001b[0m\u001b[37m\u001b[0m \u001b[1m0s\u001b[0m 13ms/step - accuracy: 0.9951 - loss: 0.0562\n",
      "Epoch 148/150\n",
      "\u001b[1m7/7\u001b[0m \u001b[32m━━━━━━━━━━━━━━━━━━━━\u001b[0m\u001b[37m\u001b[0m \u001b[1m0s\u001b[0m 13ms/step - accuracy: 0.9982 - loss: 0.0457\n",
      "Epoch 149/150\n",
      "\u001b[1m7/7\u001b[0m \u001b[32m━━━━━━━━━━━━━━━━━━━━\u001b[0m\u001b[37m\u001b[0m \u001b[1m0s\u001b[0m 14ms/step - accuracy: 1.0000 - loss: 0.0478\n",
      "Epoch 150/150\n",
      "\u001b[1m7/7\u001b[0m \u001b[32m━━━━━━━━━━━━━━━━━━━━\u001b[0m\u001b[37m\u001b[0m \u001b[1m0s\u001b[0m 13ms/step - accuracy: 0.9931 - loss: 0.0569\n"
     ]
    },
    {
     "name": "stderr",
     "output_type": "stream",
     "text": [
      "2025-07-08 12:56:07.886276: E tensorflow/core/framework/node_def_util.cc:676] NodeDef mentions attribute use_unbounded_threadpool which is not in the op definition: Op<name=MapDataset; signature=input_dataset:variant, other_arguments: -> handle:variant; attr=f:func; attr=Targuments:list(type),min=0; attr=output_types:list(type),min=1; attr=output_shapes:list(shape),min=1; attr=use_inter_op_parallelism:bool,default=true; attr=preserve_cardinality:bool,default=false; attr=force_synchronous:bool,default=false; attr=metadata:string,default=\"\"> This may be expected if your graph generating binary is newer  than this binary. Unknown attributes will be ignored. NodeDef: {{node ParallelMapDatasetV2/_15}}\n"
     ]
    },
    {
     "name": "stdout",
     "output_type": "stream",
     "text": [
      "\u001b[1m2/2\u001b[0m \u001b[32m━━━━━━━━━━━━━━━━━━━━\u001b[0m\u001b[37m\u001b[0m \u001b[1m1s\u001b[0m 29ms/step - accuracy: 0.6825 - loss: 0.8187 \n"
     ]
    },
    {
     "data": {
      "image/png": "[encoded data removed]",
      "text/plain": [
       "<Figure size 640x480 with 1 Axes>"
      ]
     },
     "metadata": {},
     "output_type": "display_data"
    },
    {
     "name": "stdout",
     "output_type": "stream",
     "text": [
      "\n",
      "\n",
      "Accuracy on training set is 0.9952152967453003\n",
      "\n",
      "Accuracy on test set is 0.6800000071525574\n"
     ]
    }
   ],
   "source": [
    "evaluate_this_model(model = model,\n",
    "                    epochs = 150,\n",
    "                    train_set_x_unflattened = train_set_x_orig,\n",
    "                    train_set_y = train_set_y,\n",
    "                    batch_size=32,\n",
    "                    learning_rate=learning_rate) # Corrected call with unflattened data\n"
   ]
  },
  {
   "cell_type": "code",
   "execution_count": 29,
   "id": "5322db93",
   "metadata": {
    "execution": {
     "iopub.execute_input": "2025-07-08T12:56:08.812143Z",
     "iopub.status.busy": "2025-07-08T12:56:08.811714Z",
     "iopub.status.idle": "2025-07-08T12:56:08.839629Z",
     "shell.execute_reply": "2025-07-08T12:56:08.839078Z"
    },
    "id": "414d65ab-7508-4bcd-b503-c0566e145bfa",
    "papermill": {
     "duration": 0.062886,
     "end_time": "2025-07-08T12:56:08.840707",
     "exception": false,
     "start_time": "2025-07-08T12:56:08.777821",
     "status": "completed"
    },
    "tags": []
   },
   "outputs": [
    {
     "data": {
      "text/html": [
       "<pre style=\"white-space:pre;overflow-x:auto;line-height:normal;font-family:Menlo,'DejaVu Sans Mono',consolas,'Courier New',monospace\"><span style=\"font-weight: bold\">Model: \"sequential\"</span>\n",
       "</pre>\n"
      ],
      "text/plain": [
       "\u001b[1mModel: \"sequential\"\u001b[0m\n"
      ]
     },
     "metadata": {},
     "output_type": "display_data"
    },
    {
     "data": {
      "text/html": [
       "<pre style=\"white-space:pre;overflow-x:auto;line-height:normal;font-family:Menlo,'DejaVu Sans Mono',consolas,'Courier New',monospace\">┏━━━━━━━━━━━━━━━━━━━━━━━━━━━━━━━━━┳━━━━━━━━━━━━━━━━━━━━━━━━┳━━━━━━━━━━━━━━━┓\n",
       "┃<span style=\"font-weight: bold\"> Layer (type)                    </span>┃<span style=\"font-weight: bold\"> Output Shape           </span>┃<span style=\"font-weight: bold\">       Param # </span>┃\n",
       "┡━━━━━━━━━━━━━━━━━━━━━━━━━━━━━━━━━╇━━━━━━━━━━━━━━━━━━━━━━━━╇━━━━━━━━━━━━━━━┩\n",
       "│ conv2d (<span style=\"color: #0087ff; text-decoration-color: #0087ff\">Conv2D</span>)                 │ (<span style=\"color: #00d7ff; text-decoration-color: #00d7ff\">None</span>, <span style=\"color: #00af00; text-decoration-color: #00af00\">64</span>, <span style=\"color: #00af00; text-decoration-color: #00af00\">64</span>, <span style=\"color: #00af00; text-decoration-color: #00af00\">32</span>)     │            <span style=\"color: #00af00; text-decoration-color: #00af00\">96</span> │\n",
       "├─────────────────────────────────┼────────────────────────┼───────────────┤\n",
       "│ batch_normalization             │ (<span style=\"color: #00d7ff; text-decoration-color: #00d7ff\">None</span>, <span style=\"color: #00af00; text-decoration-color: #00af00\">64</span>, <span style=\"color: #00af00; text-decoration-color: #00af00\">64</span>, <span style=\"color: #00af00; text-decoration-color: #00af00\">32</span>)     │           <span style=\"color: #00af00; text-decoration-color: #00af00\">128</span> │\n",
       "│ (<span style=\"color: #0087ff; text-decoration-color: #0087ff\">BatchNormalization</span>)            │                        │               │\n",
       "├─────────────────────────────────┼────────────────────────┼───────────────┤\n",
       "│ leaky_re_lu (<span style=\"color: #0087ff; text-decoration-color: #0087ff\">LeakyReLU</span>)         │ (<span style=\"color: #00d7ff; text-decoration-color: #00d7ff\">None</span>, <span style=\"color: #00af00; text-decoration-color: #00af00\">64</span>, <span style=\"color: #00af00; text-decoration-color: #00af00\">64</span>, <span style=\"color: #00af00; text-decoration-color: #00af00\">32</span>)     │             <span style=\"color: #00af00; text-decoration-color: #00af00\">0</span> │\n",
       "├─────────────────────────────────┼────────────────────────┼───────────────┤\n",
       "│ max_pooling2d (<span style=\"color: #0087ff; text-decoration-color: #0087ff\">MaxPooling2D</span>)    │ (<span style=\"color: #00d7ff; text-decoration-color: #00d7ff\">None</span>, <span style=\"color: #00af00; text-decoration-color: #00af00\">32</span>, <span style=\"color: #00af00; text-decoration-color: #00af00\">32</span>, <span style=\"color: #00af00; text-decoration-color: #00af00\">32</span>)     │             <span style=\"color: #00af00; text-decoration-color: #00af00\">0</span> │\n",
       "├─────────────────────────────────┼────────────────────────┼───────────────┤\n",
       "│ dropout (<span style=\"color: #0087ff; text-decoration-color: #0087ff\">Dropout</span>)               │ (<span style=\"color: #00d7ff; text-decoration-color: #00d7ff\">None</span>, <span style=\"color: #00af00; text-decoration-color: #00af00\">32</span>, <span style=\"color: #00af00; text-decoration-color: #00af00\">32</span>, <span style=\"color: #00af00; text-decoration-color: #00af00\">32</span>)     │             <span style=\"color: #00af00; text-decoration-color: #00af00\">0</span> │\n",
       "├─────────────────────────────────┼────────────────────────┼───────────────┤\n",
       "│ conv2d_1 (<span style=\"color: #0087ff; text-decoration-color: #0087ff\">Conv2D</span>)               │ (<span style=\"color: #00d7ff; text-decoration-color: #00d7ff\">None</span>, <span style=\"color: #00af00; text-decoration-color: #00af00\">32</span>, <span style=\"color: #00af00; text-decoration-color: #00af00\">32</span>, <span style=\"color: #00af00; text-decoration-color: #00af00\">64</span>)     │         <span style=\"color: #00af00; text-decoration-color: #00af00\">2,048</span> │\n",
       "├─────────────────────────────────┼────────────────────────┼───────────────┤\n",
       "│ batch_normalization_1           │ (<span style=\"color: #00d7ff; text-decoration-color: #00d7ff\">None</span>, <span style=\"color: #00af00; text-decoration-color: #00af00\">32</span>, <span style=\"color: #00af00; text-decoration-color: #00af00\">32</span>, <span style=\"color: #00af00; text-decoration-color: #00af00\">64</span>)     │           <span style=\"color: #00af00; text-decoration-color: #00af00\">256</span> │\n",
       "│ (<span style=\"color: #0087ff; text-decoration-color: #0087ff\">BatchNormalization</span>)            │                        │               │\n",
       "├─────────────────────────────────┼────────────────────────┼───────────────┤\n",
       "│ activation (<span style=\"color: #0087ff; text-decoration-color: #0087ff\">Activation</span>)         │ (<span style=\"color: #00d7ff; text-decoration-color: #00d7ff\">None</span>, <span style=\"color: #00af00; text-decoration-color: #00af00\">32</span>, <span style=\"color: #00af00; text-decoration-color: #00af00\">32</span>, <span style=\"color: #00af00; text-decoration-color: #00af00\">64</span>)     │             <span style=\"color: #00af00; text-decoration-color: #00af00\">0</span> │\n",
       "├─────────────────────────────────┼────────────────────────┼───────────────┤\n",
       "│ max_pooling2d_1 (<span style=\"color: #0087ff; text-decoration-color: #0087ff\">MaxPooling2D</span>)  │ (<span style=\"color: #00d7ff; text-decoration-color: #00d7ff\">None</span>, <span style=\"color: #00af00; text-decoration-color: #00af00\">16</span>, <span style=\"color: #00af00; text-decoration-color: #00af00\">16</span>, <span style=\"color: #00af00; text-decoration-color: #00af00\">64</span>)     │             <span style=\"color: #00af00; text-decoration-color: #00af00\">0</span> │\n",
       "├─────────────────────────────────┼────────────────────────┼───────────────┤\n",
       "│ dropout_1 (<span style=\"color: #0087ff; text-decoration-color: #0087ff\">Dropout</span>)             │ (<span style=\"color: #00d7ff; text-decoration-color: #00d7ff\">None</span>, <span style=\"color: #00af00; text-decoration-color: #00af00\">16</span>, <span style=\"color: #00af00; text-decoration-color: #00af00\">16</span>, <span style=\"color: #00af00; text-decoration-color: #00af00\">64</span>)     │             <span style=\"color: #00af00; text-decoration-color: #00af00\">0</span> │\n",
       "├─────────────────────────────────┼────────────────────────┼───────────────┤\n",
       "│ conv2d_2 (<span style=\"color: #0087ff; text-decoration-color: #0087ff\">Conv2D</span>)               │ (<span style=\"color: #00d7ff; text-decoration-color: #00d7ff\">None</span>, <span style=\"color: #00af00; text-decoration-color: #00af00\">16</span>, <span style=\"color: #00af00; text-decoration-color: #00af00\">16</span>, <span style=\"color: #00af00; text-decoration-color: #00af00\">128</span>)    │         <span style=\"color: #00af00; text-decoration-color: #00af00\">8,192</span> │\n",
       "├─────────────────────────────────┼────────────────────────┼───────────────┤\n",
       "│ batch_normalization_2           │ (<span style=\"color: #00d7ff; text-decoration-color: #00d7ff\">None</span>, <span style=\"color: #00af00; text-decoration-color: #00af00\">16</span>, <span style=\"color: #00af00; text-decoration-color: #00af00\">16</span>, <span style=\"color: #00af00; text-decoration-color: #00af00\">128</span>)    │           <span style=\"color: #00af00; text-decoration-color: #00af00\">512</span> │\n",
       "│ (<span style=\"color: #0087ff; text-decoration-color: #0087ff\">BatchNormalization</span>)            │                        │               │\n",
       "├─────────────────────────────────┼────────────────────────┼───────────────┤\n",
       "│ activation_1 (<span style=\"color: #0087ff; text-decoration-color: #0087ff\">Activation</span>)       │ (<span style=\"color: #00d7ff; text-decoration-color: #00d7ff\">None</span>, <span style=\"color: #00af00; text-decoration-color: #00af00\">16</span>, <span style=\"color: #00af00; text-decoration-color: #00af00\">16</span>, <span style=\"color: #00af00; text-decoration-color: #00af00\">128</span>)    │             <span style=\"color: #00af00; text-decoration-color: #00af00\">0</span> │\n",
       "├─────────────────────────────────┼────────────────────────┼───────────────┤\n",
       "│ max_pooling2d_2 (<span style=\"color: #0087ff; text-decoration-color: #0087ff\">MaxPooling2D</span>)  │ (<span style=\"color: #00d7ff; text-decoration-color: #00d7ff\">None</span>, <span style=\"color: #00af00; text-decoration-color: #00af00\">8</span>, <span style=\"color: #00af00; text-decoration-color: #00af00\">8</span>, <span style=\"color: #00af00; text-decoration-color: #00af00\">128</span>)      │             <span style=\"color: #00af00; text-decoration-color: #00af00\">0</span> │\n",
       "├─────────────────────────────────┼────────────────────────┼───────────────┤\n",
       "│ dropout_2 (<span style=\"color: #0087ff; text-decoration-color: #0087ff\">Dropout</span>)             │ (<span style=\"color: #00d7ff; text-decoration-color: #00d7ff\">None</span>, <span style=\"color: #00af00; text-decoration-color: #00af00\">8</span>, <span style=\"color: #00af00; text-decoration-color: #00af00\">8</span>, <span style=\"color: #00af00; text-decoration-color: #00af00\">128</span>)      │             <span style=\"color: #00af00; text-decoration-color: #00af00\">0</span> │\n",
       "├─────────────────────────────────┼────────────────────────┼───────────────┤\n",
       "│ flatten (<span style=\"color: #0087ff; text-decoration-color: #0087ff\">Flatten</span>)               │ (<span style=\"color: #00d7ff; text-decoration-color: #00d7ff\">None</span>, <span style=\"color: #00af00; text-decoration-color: #00af00\">8192</span>)           │             <span style=\"color: #00af00; text-decoration-color: #00af00\">0</span> │\n",
       "├─────────────────────────────────┼────────────────────────┼───────────────┤\n",
       "│ dense (<span style=\"color: #0087ff; text-decoration-color: #0087ff\">Dense</span>)                   │ (<span style=\"color: #00d7ff; text-decoration-color: #00d7ff\">None</span>, <span style=\"color: #00af00; text-decoration-color: #00af00\">128</span>)            │     <span style=\"color: #00af00; text-decoration-color: #00af00\">1,048,576</span> │\n",
       "├─────────────────────────────────┼────────────────────────┼───────────────┤\n",
       "│ batch_normalization_3           │ (<span style=\"color: #00d7ff; text-decoration-color: #00d7ff\">None</span>, <span style=\"color: #00af00; text-decoration-color: #00af00\">128</span>)            │           <span style=\"color: #00af00; text-decoration-color: #00af00\">512</span> │\n",
       "│ (<span style=\"color: #0087ff; text-decoration-color: #0087ff\">BatchNormalization</span>)            │                        │               │\n",
       "├─────────────────────────────────┼────────────────────────┼───────────────┤\n",
       "│ activation_2 (<span style=\"color: #0087ff; text-decoration-color: #0087ff\">Activation</span>)       │ (<span style=\"color: #00d7ff; text-decoration-color: #00d7ff\">None</span>, <span style=\"color: #00af00; text-decoration-color: #00af00\">128</span>)            │             <span style=\"color: #00af00; text-decoration-color: #00af00\">0</span> │\n",
       "├─────────────────────────────────┼────────────────────────┼───────────────┤\n",
       "│ dropout_3 (<span style=\"color: #0087ff; text-decoration-color: #0087ff\">Dropout</span>)             │ (<span style=\"color: #00d7ff; text-decoration-color: #00d7ff\">None</span>, <span style=\"color: #00af00; text-decoration-color: #00af00\">128</span>)            │             <span style=\"color: #00af00; text-decoration-color: #00af00\">0</span> │\n",
       "├─────────────────────────────────┼────────────────────────┼───────────────┤\n",
       "│ dense_1 (<span style=\"color: #0087ff; text-decoration-color: #0087ff\">Dense</span>)                 │ (<span style=\"color: #00d7ff; text-decoration-color: #00d7ff\">None</span>, <span style=\"color: #00af00; text-decoration-color: #00af00\">64</span>)             │         <span style=\"color: #00af00; text-decoration-color: #00af00\">8,192</span> │\n",
       "├─────────────────────────────────┼────────────────────────┼───────────────┤\n",
       "│ batch_normalization_4           │ (<span style=\"color: #00d7ff; text-decoration-color: #00d7ff\">None</span>, <span style=\"color: #00af00; text-decoration-color: #00af00\">64</span>)             │           <span style=\"color: #00af00; text-decoration-color: #00af00\">256</span> │\n",
       "│ (<span style=\"color: #0087ff; text-decoration-color: #0087ff\">BatchNormalization</span>)            │                        │               │\n",
       "├─────────────────────────────────┼────────────────────────┼───────────────┤\n",
       "│ activation_3 (<span style=\"color: #0087ff; text-decoration-color: #0087ff\">Activation</span>)       │ (<span style=\"color: #00d7ff; text-decoration-color: #00d7ff\">None</span>, <span style=\"color: #00af00; text-decoration-color: #00af00\">64</span>)             │             <span style=\"color: #00af00; text-decoration-color: #00af00\">0</span> │\n",
       "├─────────────────────────────────┼────────────────────────┼───────────────┤\n",
       "│ dropout_4 (<span style=\"color: #0087ff; text-decoration-color: #0087ff\">Dropout</span>)             │ (<span style=\"color: #00d7ff; text-decoration-color: #00d7ff\">None</span>, <span style=\"color: #00af00; text-decoration-color: #00af00\">64</span>)             │             <span style=\"color: #00af00; text-decoration-color: #00af00\">0</span> │\n",
       "├─────────────────────────────────┼────────────────────────┼───────────────┤\n",
       "│ dense_2 (<span style=\"color: #0087ff; text-decoration-color: #0087ff\">Dense</span>)                 │ (<span style=\"color: #00d7ff; text-decoration-color: #00d7ff\">None</span>, <span style=\"color: #00af00; text-decoration-color: #00af00\">1</span>)              │            <span style=\"color: #00af00; text-decoration-color: #00af00\">65</span> │\n",
       "└─────────────────────────────────┴────────────────────────┴───────────────┘\n",
       "</pre>\n"
      ],
      "text/plain": [
       "┏━━━━━━━━━━━━━━━━━━━━━━━━━━━━━━━━━┳━━━━━━━━━━━━━━━━━━━━━━━━┳━━━━━━━━━━━━━━━┓\n",
       "┃\u001b[1m \u001b[0m\u001b[1mLayer (type)                   \u001b[0m\u001b[1m \u001b[0m┃\u001b[1m \u001b[0m\u001b[1mOutput Shape          \u001b[0m\u001b[1m \u001b[0m┃\u001b[1m \u001b[0m\u001b[1m      Param #\u001b[0m\u001b[1m \u001b[0m┃\n",
       "┡━━━━━━━━━━━━━━━━━━━━━━━━━━━━━━━━━╇━━━━━━━━━━━━━━━━━━━━━━━━╇━━━━━━━━━━━━━━━┩\n",
       "│ conv2d (\u001b[38;5;33mConv2D\u001b[0m)                 │ (\u001b[38;5;45mNone\u001b[0m, \u001b[38;5;34m64\u001b[0m, \u001b[38;5;34m64\u001b[0m, \u001b[38;5;34m32\u001b[0m)     │            \u001b[38;5;34m96\u001b[0m │\n",
       "├─────────────────────────────────┼────────────────────────┼───────────────┤\n",
       "│ batch_normalization             │ (\u001b[38;5;45mNone\u001b[0m, \u001b[38;5;34m64\u001b[0m, \u001b[38;5;34m64\u001b[0m, \u001b[38;5;34m32\u001b[0m)     │           \u001b[38;5;34m128\u001b[0m │\n",
       "│ (\u001b[38;5;33mBatchNormalization\u001b[0m)            │                        │               │\n",
       "├─────────────────────────────────┼────────────────────────┼───────────────┤\n",
       "│ leaky_re_lu (\u001b[38;5;33mLeakyReLU\u001b[0m)         │ (\u001b[38;5;45mNone\u001b[0m, \u001b[38;5;34m64\u001b[0m, \u001b[38;5;34m64\u001b[0m, \u001b[38;5;34m32\u001b[0m)     │             \u001b[38;5;34m0\u001b[0m │\n",
       "├─────────────────────────────────┼────────────────────────┼───────────────┤\n",
       "│ max_pooling2d (\u001b[38;5;33mMaxPooling2D\u001b[0m)    │ (\u001b[38;5;45mNone\u001b[0m, \u001b[38;5;34m32\u001b[0m, \u001b[38;5;34m32\u001b[0m, \u001b[38;5;34m32\u001b[0m)     │             \u001b[38;5;34m0\u001b[0m │\n",
       "├─────────────────────────────────┼────────────────────────┼───────────────┤\n",
       "│ dropout (\u001b[38;5;33mDropout\u001b[0m)               │ (\u001b[38;5;45mNone\u001b[0m, \u001b[38;5;34m32\u001b[0m, \u001b[38;5;34m32\u001b[0m, \u001b[38;5;34m32\u001b[0m)     │             \u001b[38;5;34m0\u001b[0m │\n",
       "├─────────────────────────────────┼────────────────────────┼───────────────┤\n",
       "│ conv2d_1 (\u001b[38;5;33mConv2D\u001b[0m)               │ (\u001b[38;5;45mNone\u001b[0m, \u001b[38;5;34m32\u001b[0m, \u001b[38;5;34m32\u001b[0m, \u001b[38;5;34m64\u001b[0m)     │         \u001b[38;5;34m2,048\u001b[0m │\n",
       "├─────────────────────────────────┼────────────────────────┼───────────────┤\n",
       "│ batch_normalization_1           │ (\u001b[38;5;45mNone\u001b[0m, \u001b[38;5;34m32\u001b[0m, \u001b[38;5;34m32\u001b[0m, \u001b[38;5;34m64\u001b[0m)     │           \u001b[38;5;34m256\u001b[0m │\n",
       "│ (\u001b[38;5;33mBatchNormalization\u001b[0m)            │                        │               │\n",
       "├─────────────────────────────────┼────────────────────────┼───────────────┤\n",
       "│ activation (\u001b[38;5;33mActivation\u001b[0m)         │ (\u001b[38;5;45mNone\u001b[0m, \u001b[38;5;34m32\u001b[0m, \u001b[38;5;34m32\u001b[0m, \u001b[38;5;34m64\u001b[0m)     │             \u001b[38;5;34m0\u001b[0m │\n",
       "├─────────────────────────────────┼────────────────────────┼───────────────┤\n",
       "│ max_pooling2d_1 (\u001b[38;5;33mMaxPooling2D\u001b[0m)  │ (\u001b[38;5;45mNone\u001b[0m, \u001b[38;5;34m16\u001b[0m, \u001b[38;5;34m16\u001b[0m, \u001b[38;5;34m64\u001b[0m)     │             \u001b[38;5;34m0\u001b[0m │\n",
       "├─────────────────────────────────┼────────────────────────┼───────────────┤\n",
       "│ dropout_1 (\u001b[38;5;33mDropout\u001b[0m)             │ (\u001b[38;5;45mNone\u001b[0m, \u001b[38;5;34m16\u001b[0m, \u001b[38;5;34m16\u001b[0m, \u001b[38;5;34m64\u001b[0m)     │             \u001b[38;5;34m0\u001b[0m │\n",
       "├─────────────────────────────────┼────────────────────────┼───────────────┤\n",
       "│ conv2d_2 (\u001b[38;5;33mConv2D\u001b[0m)               │ (\u001b[38;5;45mNone\u001b[0m, \u001b[38;5;34m16\u001b[0m, \u001b[38;5;34m16\u001b[0m, \u001b[38;5;34m128\u001b[0m)    │         \u001b[38;5;34m8,192\u001b[0m │\n",
       "├─────────────────────────────────┼────────────────────────┼───────────────┤\n",
       "│ batch_normalization_2           │ (\u001b[38;5;45mNone\u001b[0m, \u001b[38;5;34m16\u001b[0m, \u001b[38;5;34m16\u001b[0m, \u001b[38;5;34m128\u001b[0m)    │           \u001b[38;5;34m512\u001b[0m │\n",
       "│ (\u001b[38;5;33mBatchNormalization\u001b[0m)            │                        │               │\n",
       "├─────────────────────────────────┼────────────────────────┼───────────────┤\n",
       "│ activation_1 (\u001b[38;5;33mActivation\u001b[0m)       │ (\u001b[38;5;45mNone\u001b[0m, \u001b[38;5;34m16\u001b[0m, \u001b[38;5;34m16\u001b[0m, \u001b[38;5;34m128\u001b[0m)    │             \u001b[38;5;34m0\u001b[0m │\n",
       "├─────────────────────────────────┼────────────────────────┼───────────────┤\n",
       "│ max_pooling2d_2 (\u001b[38;5;33mMaxPooling2D\u001b[0m)  │ (\u001b[38;5;45mNone\u001b[0m, \u001b[38;5;34m8\u001b[0m, \u001b[38;5;34m8\u001b[0m, \u001b[38;5;34m128\u001b[0m)      │             \u001b[38;5;34m0\u001b[0m │\n",
       "├─────────────────────────────────┼────────────────────────┼───────────────┤\n",
       "│ dropout_2 (\u001b[38;5;33mDropout\u001b[0m)             │ (\u001b[38;5;45mNone\u001b[0m, \u001b[38;5;34m8\u001b[0m, \u001b[38;5;34m8\u001b[0m, \u001b[38;5;34m128\u001b[0m)      │             \u001b[38;5;34m0\u001b[0m │\n",
       "├─────────────────────────────────┼────────────────────────┼───────────────┤\n",
       "│ flatten (\u001b[38;5;33mFlatten\u001b[0m)               │ (\u001b[38;5;45mNone\u001b[0m, \u001b[38;5;34m8192\u001b[0m)           │             \u001b[38;5;34m0\u001b[0m │\n",
       "├─────────────────────────────────┼────────────────────────┼───────────────┤\n",
       "│ dense (\u001b[38;5;33mDense\u001b[0m)                   │ (\u001b[38;5;45mNone\u001b[0m, \u001b[38;5;34m128\u001b[0m)            │     \u001b[38;5;34m1,048,576\u001b[0m │\n",
       "├─────────────────────────────────┼────────────────────────┼───────────────┤\n",
       "│ batch_normalization_3           │ (\u001b[38;5;45mNone\u001b[0m, \u001b[38;5;34m128\u001b[0m)            │           \u001b[38;5;34m512\u001b[0m │\n",
       "│ (\u001b[38;5;33mBatchNormalization\u001b[0m)            │                        │               │\n",
       "├─────────────────────────────────┼────────────────────────┼───────────────┤\n",
       "│ activation_2 (\u001b[38;5;33mActivation\u001b[0m)       │ (\u001b[38;5;45mNone\u001b[0m, \u001b[38;5;34m128\u001b[0m)            │             \u001b[38;5;34m0\u001b[0m │\n",
       "├─────────────────────────────────┼────────────────────────┼───────────────┤\n",
       "│ dropout_3 (\u001b[38;5;33mDropout\u001b[0m)             │ (\u001b[38;5;45mNone\u001b[0m, \u001b[38;5;34m128\u001b[0m)            │             \u001b[38;5;34m0\u001b[0m │\n",
       "├─────────────────────────────────┼────────────────────────┼───────────────┤\n",
       "│ dense_1 (\u001b[38;5;33mDense\u001b[0m)                 │ (\u001b[38;5;45mNone\u001b[0m, \u001b[38;5;34m64\u001b[0m)             │         \u001b[38;5;34m8,192\u001b[0m │\n",
       "├─────────────────────────────────┼────────────────────────┼───────────────┤\n",
       "│ batch_normalization_4           │ (\u001b[38;5;45mNone\u001b[0m, \u001b[38;5;34m64\u001b[0m)             │           \u001b[38;5;34m256\u001b[0m │\n",
       "│ (\u001b[38;5;33mBatchNormalization\u001b[0m)            │                        │               │\n",
       "├─────────────────────────────────┼────────────────────────┼───────────────┤\n",
       "│ activation_3 (\u001b[38;5;33mActivation\u001b[0m)       │ (\u001b[38;5;45mNone\u001b[0m, \u001b[38;5;34m64\u001b[0m)             │             \u001b[38;5;34m0\u001b[0m │\n",
       "├─────────────────────────────────┼────────────────────────┼───────────────┤\n",
       "│ dropout_4 (\u001b[38;5;33mDropout\u001b[0m)             │ (\u001b[38;5;45mNone\u001b[0m, \u001b[38;5;34m64\u001b[0m)             │             \u001b[38;5;34m0\u001b[0m │\n",
       "├─────────────────────────────────┼────────────────────────┼───────────────┤\n",
       "│ dense_2 (\u001b[38;5;33mDense\u001b[0m)                 │ (\u001b[38;5;45mNone\u001b[0m, \u001b[38;5;34m1\u001b[0m)              │            \u001b[38;5;34m65\u001b[0m │\n",
       "└─────────────────────────────────┴────────────────────────┴───────────────┘\n"
      ]
     },
     "metadata": {},
     "output_type": "display_data"
    },
    {
     "data": {
      "text/html": [
       "<pre style=\"white-space:pre;overflow-x:auto;line-height:normal;font-family:Menlo,'DejaVu Sans Mono',consolas,'Courier New',monospace\"><span style=\"font-weight: bold\"> Total params: </span><span style=\"color: #00af00; text-decoration-color: #00af00\">3,204,837</span> (12.23 MB)\n",
       "</pre>\n"
      ],
      "text/plain": [
       "\u001b[1m Total params: \u001b[0m\u001b[38;5;34m3,204,837\u001b[0m (12.23 MB)\n"
      ]
     },
     "metadata": {},
     "output_type": "display_data"
    },
    {
     "data": {
      "text/html": [
       "<pre style=\"white-space:pre;overflow-x:auto;line-height:normal;font-family:Menlo,'DejaVu Sans Mono',consolas,'Courier New',monospace\"><span style=\"font-weight: bold\"> Trainable params: </span><span style=\"color: #00af00; text-decoration-color: #00af00\">1,068,001</span> (4.07 MB)\n",
       "</pre>\n"
      ],
      "text/plain": [
       "\u001b[1m Trainable params: \u001b[0m\u001b[38;5;34m1,068,001\u001b[0m (4.07 MB)\n"
      ]
     },
     "metadata": {},
     "output_type": "display_data"
    },
    {
     "data": {
      "text/html": [
       "<pre style=\"white-space:pre;overflow-x:auto;line-height:normal;font-family:Menlo,'DejaVu Sans Mono',consolas,'Courier New',monospace\"><span style=\"font-weight: bold\"> Non-trainable params: </span><span style=\"color: #00af00; text-decoration-color: #00af00\">832</span> (3.25 KB)\n",
       "</pre>\n"
      ],
      "text/plain": [
       "\u001b[1m Non-trainable params: \u001b[0m\u001b[38;5;34m832\u001b[0m (3.25 KB)\n"
      ]
     },
     "metadata": {},
     "output_type": "display_data"
    },
    {
     "data": {
      "text/html": [
       "<pre style=\"white-space:pre;overflow-x:auto;line-height:normal;font-family:Menlo,'DejaVu Sans Mono',consolas,'Courier New',monospace\"><span style=\"font-weight: bold\"> Optimizer params: </span><span style=\"color: #00af00; text-decoration-color: #00af00\">2,136,004</span> (8.15 MB)\n",
       "</pre>\n"
      ],
      "text/plain": [
       "\u001b[1m Optimizer params: \u001b[0m\u001b[38;5;34m2,136,004\u001b[0m (8.15 MB)\n"
      ]
     },
     "metadata": {},
     "output_type": "display_data"
    }
   ],
   "source": [
    "model.summary()"
   ]
  },
  {
   "cell_type": "code",
   "execution_count": 30,
   "id": "49bb4981",
   "metadata": {
    "execution": {
     "iopub.execute_input": "2025-07-08T12:56:08.910800Z",
     "iopub.status.busy": "2025-07-08T12:56:08.910577Z",
     "iopub.status.idle": "2025-07-08T12:56:09.322457Z",
     "shell.execute_reply": "2025-07-08T12:56:09.321889Z"
    },
    "id": "Q1eN4tY3JfMS",
    "papermill": {
     "duration": 0.44746,
     "end_time": "2025-07-08T12:56:09.323533",
     "exception": false,
     "start_time": "2025-07-08T12:56:08.876073",
     "status": "completed"
    },
    "tags": []
   },
   "outputs": [
    {
     "name": "stdout",
     "output_type": "stream",
     "text": [
      "\u001b[1m2/2\u001b[0m \u001b[32m━━━━━━━━━━━━━━━━━━━━\u001b[0m\u001b[37m\u001b[0m \u001b[1m0s\u001b[0m 161ms/step\n"
     ]
    }
   ],
   "source": [
    "y_pred = model.predict(test_set_x_orig)"
   ]
  },
  {
   "cell_type": "code",
   "execution_count": 31,
   "id": "33d43129",
   "metadata": {
    "execution": {
     "iopub.execute_input": "2025-07-08T12:56:09.395691Z",
     "iopub.status.busy": "2025-07-08T12:56:09.395459Z",
     "iopub.status.idle": "2025-07-08T12:56:09.400006Z",
     "shell.execute_reply": "2025-07-08T12:56:09.399482Z"
    },
    "id": "QKHo59XQehxR",
    "papermill": {
     "duration": 0.04059,
     "end_time": "2025-07-08T12:56:09.401012",
     "exception": false,
     "start_time": "2025-07-08T12:56:09.360422",
     "status": "completed"
    },
    "tags": []
   },
   "outputs": [
    {
     "data": {
      "text/plain": [
       "(50, 1)"
      ]
     },
     "execution_count": 31,
     "metadata": {},
     "output_type": "execute_result"
    }
   ],
   "source": [
    "y_pred.shape"
   ]
  },
  {
   "cell_type": "code",
   "execution_count": 32,
   "id": "8d0a1e06",
   "metadata": {
    "execution": {
     "iopub.execute_input": "2025-07-08T12:56:09.471286Z",
     "iopub.status.busy": "2025-07-08T12:56:09.471028Z",
     "iopub.status.idle": "2025-07-08T12:56:09.475987Z",
     "shell.execute_reply": "2025-07-08T12:56:09.475330Z"
    },
    "id": "n05eBuC6f-1p",
    "papermill": {
     "duration": 0.041632,
     "end_time": "2025-07-08T12:56:09.477241",
     "exception": false,
     "start_time": "2025-07-08T12:56:09.435609",
     "status": "completed"
    },
    "tags": []
   },
   "outputs": [
    {
     "data": {
      "text/plain": [
       "array([[0.97578454],\n",
       "       [0.9431258 ],\n",
       "       [0.16674016]], dtype=float32)"
      ]
     },
     "execution_count": 32,
     "metadata": {},
     "output_type": "execute_result"
    }
   ],
   "source": [
    "y_pred[:3]"
   ]
  },
  {
   "cell_type": "code",
   "execution_count": 33,
   "id": "82a09846",
   "metadata": {
    "execution": {
     "iopub.execute_input": "2025-07-08T12:56:09.547324Z",
     "iopub.status.busy": "2025-07-08T12:56:09.546859Z",
     "iopub.status.idle": "2025-07-08T12:56:09.550562Z",
     "shell.execute_reply": "2025-07-08T12:56:09.549864Z"
    },
    "id": "wvFH-R_dJXBH",
    "papermill": {
     "duration": 0.039423,
     "end_time": "2025-07-08T12:56:09.551587",
     "exception": false,
     "start_time": "2025-07-08T12:56:09.512164",
     "status": "completed"
    },
    "tags": []
   },
   "outputs": [],
   "source": [
    "# # For multi-class classification (e.g., softmax output)\n",
    "# # y_pred_labels = np.argmax(y_pred_probs, axis=1)\n",
    "\n",
    "y_pred_labels = (y_pred > 0.9).astype(int).reshape(-1)\n",
    "true_labels = test_set_y_orig.reshape(-1)"
   ]
  },
  {
   "cell_type": "code",
   "execution_count": 34,
   "id": "9271fea8",
   "metadata": {
    "execution": {
     "iopub.execute_input": "2025-07-08T12:56:09.621707Z",
     "iopub.status.busy": "2025-07-08T12:56:09.621517Z",
     "iopub.status.idle": "2025-07-08T12:56:09.626087Z",
     "shell.execute_reply": "2025-07-08T12:56:09.625461Z"
    },
    "id": "Dd4LnBZXkuES",
    "papermill": {
     "duration": 0.041111,
     "end_time": "2025-07-08T12:56:09.627266",
     "exception": false,
     "start_time": "2025-07-08T12:56:09.586155",
     "status": "completed"
    },
    "tags": []
   },
   "outputs": [
    {
     "name": "stdout",
     "output_type": "stream",
     "text": [
      "predictions Values:  [1 1 0 0 1]\n",
      "Actual Values:  [1 1 1 1 1]\n",
      "predictions Shape:  (50,)\n",
      "Actual Shape:  (50,)\n"
     ]
    }
   ],
   "source": [
    "print(\"predictions Values: \",y_pred_labels[:5])\n",
    "print(\"Actual Values: \",true_labels[:5])\n",
    "print(\"predictions Shape: \",y_pred_labels.shape)\n",
    "print(\"Actual Shape: \",true_labels.shape)"
   ]
  },
  {
   "cell_type": "code",
   "execution_count": 35,
   "id": "77aed8bb",
   "metadata": {
    "execution": {
     "iopub.execute_input": "2025-07-08T12:56:09.698506Z",
     "iopub.status.busy": "2025-07-08T12:56:09.697934Z",
     "iopub.status.idle": "2025-07-08T12:56:09.702173Z",
     "shell.execute_reply": "2025-07-08T12:56:09.701326Z"
    },
    "id": "D0DZ2NLuMAph",
    "papermill": {
     "duration": 0.041181,
     "end_time": "2025-07-08T12:56:09.703361",
     "exception": false,
     "start_time": "2025-07-08T12:56:09.662180",
     "status": "completed"
    },
    "tags": []
   },
   "outputs": [
    {
     "name": "stdout",
     "output_type": "stream",
     "text": [
      "True / Cat 33\n",
      "False / Non Cat 17\n"
     ]
    }
   ],
   "source": [
    "true_s = (true_labels ==1).sum()\n",
    "false_s = (true_labels ==0).sum()\n",
    "print('True / Cat',true_s)\n",
    "print('False / Non Cat',false_s)"
   ]
  },
  {
   "cell_type": "code",
   "execution_count": 36,
   "id": "355f7485",
   "metadata": {
    "execution": {
     "iopub.execute_input": "2025-07-08T12:56:09.773181Z",
     "iopub.status.busy": "2025-07-08T12:56:09.772961Z",
     "iopub.status.idle": "2025-07-08T12:56:09.917340Z",
     "shell.execute_reply": "2025-07-08T12:56:09.916683Z"
    },
    "id": "05No_9SAKM-A",
    "papermill": {
     "duration": 0.180277,
     "end_time": "2025-07-08T12:56:09.918526",
     "exception": false,
     "start_time": "2025-07-08T12:56:09.738249",
     "status": "completed"
    },
    "tags": []
   },
   "outputs": [
    {
     "data": {
      "image/png": "[encoded data removed]",
      "text/plain": [
       "<Figure size 200x200 with 2 Axes>"
      ]
     },
     "metadata": {},
     "output_type": "display_data"
    }
   ],
   "source": [
    "# Example predictions and true labels (ensure both are 1D arrays of 0s and 1s)\n",
    "y_true = true_labels       # Replace with your actual true labels\n",
    "y_pred = y_pred_labels     # Replace with your predicted labels\n",
    "\n",
    "# Confusion Matrix (with label order 1, 0 as requested)\n",
    "cm = confusion_matrix(y_true, y_pred, labels=[1, 0])\n",
    "\n",
    "# Metrics\n",
    "accuracy = accuracy_score(y_true, y_pred)\n",
    "precision = precision_score(y_true, y_pred)\n",
    "recall = recall_score(y_true, y_pred)\n",
    "f1 = f1_score(y_true, y_pred)\n",
    "\n",
    "# Plotting Confusion Matrix\n",
    "plt.figure(figsize=(2, 2))\n",
    "sn.heatmap(cm, annot=True, fmt='d', cmap='rocket', xticklabels=[1, 0], yticklabels=['1/'+ str(true_s), '0/'+ str(false_s)])\n",
    "plt.xlabel('Predicted')\n",
    "plt.ylabel('Truth')\n",
    "plt.title(f'Accuracy: {accuracy*100:.1f}%\\nPrecision: {precision*100:.1f}% | Recall: {recall*100:.1f}% | F1: {f1*100:.1f}%')\n",
    "plt.tight_layout()\n",
    "plt.show()\n"
   ]
  },
  {
   "cell_type": "code",
   "execution_count": null,
   "id": "c869584e",
   "metadata": {
    "id": "wVrFyNkVNbUU",
    "papermill": {
     "duration": 0.034574,
     "end_time": "2025-07-08T12:56:09.988914",
     "exception": false,
     "start_time": "2025-07-08T12:56:09.954340",
     "status": "completed"
    },
    "tags": []
   },
   "outputs": [],
   "source": []
  },
  {
   "cell_type": "code",
   "execution_count": null,
   "id": "9a1d011f",
   "metadata": {
    "papermill": {
     "duration": 0.034261,
     "end_time": "2025-07-08T12:56:10.058860",
     "exception": false,
     "start_time": "2025-07-08T12:56:10.024599",
     "status": "completed"
    },
    "tags": []
   },
   "outputs": [],
   "source": []
  }
 ],
 "metadata": {
  "accelerator": "GPU",
  "colab": {
   "gpuType": "T4",
   "private_outputs": true,
   "provenance": []
  },
  "kaggle": {
   "accelerator": "gpu",
   "dataSources": [
    {
     "datasetId": 7825310,
     "sourceId": 12408330,
     "sourceType": "datasetVersion"
    }
   ],
   "dockerImageVersionId": 31089,
   "isGpuEnabled": true,
   "isInternetEnabled": true,
   "language": "python",
   "sourceType": "notebook"
  },
  "kernelspec": {
   "display_name": "Python 3",
   "language": "python",
   "name": "python3"
  },
  "language_info": {
   "codemirror_mode": {
    "name": "ipython",
    "version": 3
   },
   "file_extension": ".py",
   "mimetype": "text/x-python",
   "name": "python",
   "nbconvert_exporter": "python",
   "pygments_lexer": "ipython3",
   "version": "3.11.13"
  },
  "papermill": {
   "default_parameters": {},
   "duration": 55.434521,
   "end_time": "2025-07-08T12:56:13.352095",
   "environment_variables": {},
   "exception": null,
   "input_path": "__notebook__.ipynb",
   "output_path": "__notebook__.ipynb",
   "parameters": {},
   "start_time": "2025-07-08T12:55:17.917574",
   "version": "2.6.0"
  }
 },
 "nbformat": 4,
 "nbformat_minor": 5
}
